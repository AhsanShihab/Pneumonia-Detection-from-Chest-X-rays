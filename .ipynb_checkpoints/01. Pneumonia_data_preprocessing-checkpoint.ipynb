{
 "cells": [
  {
   "cell_type": "markdown",
   "metadata": {},
   "source": [
    "# Introduction"
   ]
  },
  {
   "cell_type": "markdown",
   "metadata": {},
   "source": [
    "Machine Learning has many fields where it can have powerful impact. Healthcare is one of the fields that can be benefited mostly by using ML. Advancement in ML has created possibilities of automating challenging tasks in healthcare sector like diagnosis of diseases, estimating risk, monitoring treatment etc. One of the challenging task in healthcare is analyzing X-ray images. Chest X-rays can be used to detect many diseases like early-stage lung cancers, pneumonia and more. Failing to detect them might cause serious effect for patients. In 2017, 2.5M people died from pneumonia worldwide (source: https://ourworldindata.org/pneumonia). The death rate can be reduce if the patients are diagnosed and brought under treatment in time. Deploying Machine Learning models to detect diseases like these can improve the survival rate of the patients and save thousands of life.\n",
    "\n",
    "\n",
    "## Dataset\n",
    "One of the most common public dataset of chest X-rays is “ChestX-ray8” dataset. This dataset contains over 100k frontal-view X-ray images of more than 30k unique patients. The images have nine labels which includes Atelectasis, Cardiomegaly, Effusion, Infiltration, Mass, Nodule, Pneumonia, Pneumathorax and No Finding. Dataset link: https://arxiv.org/abs/1705.02315\n",
    "\n",
    "In this notebook, I am going to explore the \"ChestX-ray8\" dataset and create the train, validation and test dataset for training Pneumonia Detection Model."
   ]
  },
  {
   "cell_type": "code",
   "execution_count": 1,
   "metadata": {},
   "outputs": [],
   "source": [
    "# import libraries\n",
    "import numpy as np\n",
    "import pandas as pd"
   ]
  },
  {
   "cell_type": "code",
   "execution_count": 2,
   "metadata": {},
   "outputs": [],
   "source": [
    "# read in the csv file\n",
    "dataset = pd.read_csv(\"Data_Entry_2017_v2020.csv\")"
   ]
  },
  {
   "cell_type": "code",
   "execution_count": 3,
   "metadata": {},
   "outputs": [
    {
     "data": {
      "text/html": [
       "<div>\n",
       "<style scoped>\n",
       "    .dataframe tbody tr th:only-of-type {\n",
       "        vertical-align: middle;\n",
       "    }\n",
       "\n",
       "    .dataframe tbody tr th {\n",
       "        vertical-align: top;\n",
       "    }\n",
       "\n",
       "    .dataframe thead th {\n",
       "        text-align: right;\n",
       "    }\n",
       "</style>\n",
       "<table border=\"1\" class=\"dataframe\">\n",
       "  <thead>\n",
       "    <tr style=\"text-align: right;\">\n",
       "      <th></th>\n",
       "      <th>Image Index</th>\n",
       "      <th>Finding Labels</th>\n",
       "      <th>Follow-up #</th>\n",
       "      <th>Patient ID</th>\n",
       "      <th>Patient Age</th>\n",
       "      <th>Patient Gender</th>\n",
       "      <th>View Position</th>\n",
       "      <th>OriginalImage[Width</th>\n",
       "      <th>Height]</th>\n",
       "      <th>OriginalImagePixelSpacing[x</th>\n",
       "      <th>y]</th>\n",
       "    </tr>\n",
       "  </thead>\n",
       "  <tbody>\n",
       "    <tr>\n",
       "      <th>0</th>\n",
       "      <td>00000001_000.png</td>\n",
       "      <td>Cardiomegaly</td>\n",
       "      <td>0</td>\n",
       "      <td>1</td>\n",
       "      <td>57</td>\n",
       "      <td>M</td>\n",
       "      <td>PA</td>\n",
       "      <td>2682</td>\n",
       "      <td>2749</td>\n",
       "      <td>0.143</td>\n",
       "      <td>0.143</td>\n",
       "    </tr>\n",
       "    <tr>\n",
       "      <th>1</th>\n",
       "      <td>00000001_001.png</td>\n",
       "      <td>Cardiomegaly|Emphysema</td>\n",
       "      <td>1</td>\n",
       "      <td>1</td>\n",
       "      <td>58</td>\n",
       "      <td>M</td>\n",
       "      <td>PA</td>\n",
       "      <td>2894</td>\n",
       "      <td>2729</td>\n",
       "      <td>0.143</td>\n",
       "      <td>0.143</td>\n",
       "    </tr>\n",
       "    <tr>\n",
       "      <th>2</th>\n",
       "      <td>00000001_002.png</td>\n",
       "      <td>Cardiomegaly|Effusion</td>\n",
       "      <td>2</td>\n",
       "      <td>1</td>\n",
       "      <td>58</td>\n",
       "      <td>M</td>\n",
       "      <td>PA</td>\n",
       "      <td>2500</td>\n",
       "      <td>2048</td>\n",
       "      <td>0.168</td>\n",
       "      <td>0.168</td>\n",
       "    </tr>\n",
       "    <tr>\n",
       "      <th>3</th>\n",
       "      <td>00000002_000.png</td>\n",
       "      <td>No Finding</td>\n",
       "      <td>0</td>\n",
       "      <td>2</td>\n",
       "      <td>80</td>\n",
       "      <td>M</td>\n",
       "      <td>PA</td>\n",
       "      <td>2500</td>\n",
       "      <td>2048</td>\n",
       "      <td>0.171</td>\n",
       "      <td>0.171</td>\n",
       "    </tr>\n",
       "    <tr>\n",
       "      <th>4</th>\n",
       "      <td>00000003_001.png</td>\n",
       "      <td>Hernia</td>\n",
       "      <td>0</td>\n",
       "      <td>3</td>\n",
       "      <td>74</td>\n",
       "      <td>F</td>\n",
       "      <td>PA</td>\n",
       "      <td>2500</td>\n",
       "      <td>2048</td>\n",
       "      <td>0.168</td>\n",
       "      <td>0.168</td>\n",
       "    </tr>\n",
       "  </tbody>\n",
       "</table>\n",
       "</div>"
      ],
      "text/plain": [
       "        Image Index          Finding Labels  Follow-up #  Patient ID  \\\n",
       "0  00000001_000.png            Cardiomegaly            0           1   \n",
       "1  00000001_001.png  Cardiomegaly|Emphysema            1           1   \n",
       "2  00000001_002.png   Cardiomegaly|Effusion            2           1   \n",
       "3  00000002_000.png              No Finding            0           2   \n",
       "4  00000003_001.png                  Hernia            0           3   \n",
       "\n",
       "   Patient Age Patient Gender View Position  OriginalImage[Width  Height]  \\\n",
       "0           57              M            PA                 2682     2749   \n",
       "1           58              M            PA                 2894     2729   \n",
       "2           58              M            PA                 2500     2048   \n",
       "3           80              M            PA                 2500     2048   \n",
       "4           74              F            PA                 2500     2048   \n",
       "\n",
       "   OriginalImagePixelSpacing[x     y]  \n",
       "0                        0.143  0.143  \n",
       "1                        0.143  0.143  \n",
       "2                        0.168  0.168  \n",
       "3                        0.171  0.171  \n",
       "4                        0.168  0.168  "
      ]
     },
     "execution_count": 3,
     "metadata": {},
     "output_type": "execute_result"
    }
   ],
   "source": [
    "dataset.head()"
   ]
  },
  {
   "cell_type": "markdown",
   "metadata": {},
   "source": [
    "In my application, I will only need the 'Image Index', 'Finding Labels', 'Patient ID'. So I will drop the rest of the columns. Also for training using AWS Sagemaker, the label column needs to be the first column so I will also reorder the columns."
   ]
  },
  {
   "cell_type": "code",
   "execution_count": 4,
   "metadata": {},
   "outputs": [
    {
     "data": {
      "text/html": [
       "<div>\n",
       "<style scoped>\n",
       "    .dataframe tbody tr th:only-of-type {\n",
       "        vertical-align: middle;\n",
       "    }\n",
       "\n",
       "    .dataframe tbody tr th {\n",
       "        vertical-align: top;\n",
       "    }\n",
       "\n",
       "    .dataframe thead th {\n",
       "        text-align: right;\n",
       "    }\n",
       "</style>\n",
       "<table border=\"1\" class=\"dataframe\">\n",
       "  <thead>\n",
       "    <tr style=\"text-align: right;\">\n",
       "      <th></th>\n",
       "      <th>Finding Labels</th>\n",
       "      <th>Image Index</th>\n",
       "      <th>Patient ID</th>\n",
       "    </tr>\n",
       "  </thead>\n",
       "  <tbody>\n",
       "    <tr>\n",
       "      <th>0</th>\n",
       "      <td>Cardiomegaly</td>\n",
       "      <td>00000001_000.png</td>\n",
       "      <td>1</td>\n",
       "    </tr>\n",
       "    <tr>\n",
       "      <th>1</th>\n",
       "      <td>Cardiomegaly|Emphysema</td>\n",
       "      <td>00000001_001.png</td>\n",
       "      <td>1</td>\n",
       "    </tr>\n",
       "    <tr>\n",
       "      <th>2</th>\n",
       "      <td>Cardiomegaly|Effusion</td>\n",
       "      <td>00000001_002.png</td>\n",
       "      <td>1</td>\n",
       "    </tr>\n",
       "    <tr>\n",
       "      <th>3</th>\n",
       "      <td>No Finding</td>\n",
       "      <td>00000002_000.png</td>\n",
       "      <td>2</td>\n",
       "    </tr>\n",
       "    <tr>\n",
       "      <th>4</th>\n",
       "      <td>Hernia</td>\n",
       "      <td>00000003_001.png</td>\n",
       "      <td>3</td>\n",
       "    </tr>\n",
       "  </tbody>\n",
       "</table>\n",
       "</div>"
      ],
      "text/plain": [
       "           Finding Labels       Image Index  Patient ID\n",
       "0            Cardiomegaly  00000001_000.png           1\n",
       "1  Cardiomegaly|Emphysema  00000001_001.png           1\n",
       "2   Cardiomegaly|Effusion  00000001_002.png           1\n",
       "3              No Finding  00000002_000.png           2\n",
       "4                  Hernia  00000003_001.png           3"
      ]
     },
     "execution_count": 4,
     "metadata": {},
     "output_type": "execute_result"
    }
   ],
   "source": [
    "# selecting necessary columns\n",
    "reduced_df = dataset[[\"Finding Labels\", \"Image Index\", \"Patient ID\"]]\n",
    "reduced_df.head()"
   ]
  },
  {
   "cell_type": "markdown",
   "metadata": {},
   "source": [
    "Next, I will select only the entries that have Pneumonia and label them as 1. The other entries will be labeled as 0."
   ]
  },
  {
   "cell_type": "code",
   "execution_count": 5,
   "metadata": {},
   "outputs": [
    {
     "data": {
      "text/html": [
       "<div>\n",
       "<style scoped>\n",
       "    .dataframe tbody tr th:only-of-type {\n",
       "        vertical-align: middle;\n",
       "    }\n",
       "\n",
       "    .dataframe tbody tr th {\n",
       "        vertical-align: top;\n",
       "    }\n",
       "\n",
       "    .dataframe thead th {\n",
       "        text-align: right;\n",
       "    }\n",
       "</style>\n",
       "<table border=\"1\" class=\"dataframe\">\n",
       "  <thead>\n",
       "    <tr style=\"text-align: right;\">\n",
       "      <th></th>\n",
       "      <th>Finding Labels</th>\n",
       "      <th>Image Index</th>\n",
       "      <th>Patient ID</th>\n",
       "    </tr>\n",
       "  </thead>\n",
       "  <tbody>\n",
       "    <tr>\n",
       "      <th>73</th>\n",
       "      <td>1</td>\n",
       "      <td>00000013_010.png</td>\n",
       "      <td>13</td>\n",
       "    </tr>\n",
       "    <tr>\n",
       "      <th>126</th>\n",
       "      <td>1</td>\n",
       "      <td>00000032_012.png</td>\n",
       "      <td>32</td>\n",
       "    </tr>\n",
       "    <tr>\n",
       "      <th>253</th>\n",
       "      <td>1</td>\n",
       "      <td>00000056_000.png</td>\n",
       "      <td>56</td>\n",
       "    </tr>\n",
       "    <tr>\n",
       "      <th>276</th>\n",
       "      <td>1</td>\n",
       "      <td>00000061_012.png</td>\n",
       "      <td>61</td>\n",
       "    </tr>\n",
       "    <tr>\n",
       "      <th>279</th>\n",
       "      <td>1</td>\n",
       "      <td>00000061_015.png</td>\n",
       "      <td>61</td>\n",
       "    </tr>\n",
       "  </tbody>\n",
       "</table>\n",
       "</div>"
      ],
      "text/plain": [
       "     Finding Labels       Image Index  Patient ID\n",
       "73                1  00000013_010.png          13\n",
       "126               1  00000032_012.png          32\n",
       "253               1  00000056_000.png          56\n",
       "276               1  00000061_012.png          61\n",
       "279               1  00000061_015.png          61"
      ]
     },
     "execution_count": 5,
     "metadata": {},
     "output_type": "execute_result"
    }
   ],
   "source": [
    "# find the entries that have Pneumonia\n",
    "pneumonia = reduced_df[reduced_df[\"Finding Labels\"].str.contains('Pneumonia')].copy()\n",
    "\n",
    "# set the labels to 1 (positive sample)\n",
    "pneumonia['Finding Labels'] = 1\n",
    "\n",
    "pneumonia.head()"
   ]
  },
  {
   "cell_type": "code",
   "execution_count": 6,
   "metadata": {},
   "outputs": [
    {
     "data": {
      "text/html": [
       "<div>\n",
       "<style scoped>\n",
       "    .dataframe tbody tr th:only-of-type {\n",
       "        vertical-align: middle;\n",
       "    }\n",
       "\n",
       "    .dataframe tbody tr th {\n",
       "        vertical-align: top;\n",
       "    }\n",
       "\n",
       "    .dataframe thead th {\n",
       "        text-align: right;\n",
       "    }\n",
       "</style>\n",
       "<table border=\"1\" class=\"dataframe\">\n",
       "  <thead>\n",
       "    <tr style=\"text-align: right;\">\n",
       "      <th></th>\n",
       "      <th>Finding Labels</th>\n",
       "      <th>Image Index</th>\n",
       "      <th>Patient ID</th>\n",
       "    </tr>\n",
       "  </thead>\n",
       "  <tbody>\n",
       "    <tr>\n",
       "      <th>0</th>\n",
       "      <td>0</td>\n",
       "      <td>00000001_000.png</td>\n",
       "      <td>1</td>\n",
       "    </tr>\n",
       "    <tr>\n",
       "      <th>1</th>\n",
       "      <td>0</td>\n",
       "      <td>00000001_001.png</td>\n",
       "      <td>1</td>\n",
       "    </tr>\n",
       "    <tr>\n",
       "      <th>2</th>\n",
       "      <td>0</td>\n",
       "      <td>00000001_002.png</td>\n",
       "      <td>1</td>\n",
       "    </tr>\n",
       "    <tr>\n",
       "      <th>3</th>\n",
       "      <td>0</td>\n",
       "      <td>00000002_000.png</td>\n",
       "      <td>2</td>\n",
       "    </tr>\n",
       "    <tr>\n",
       "      <th>4</th>\n",
       "      <td>0</td>\n",
       "      <td>00000003_001.png</td>\n",
       "      <td>3</td>\n",
       "    </tr>\n",
       "  </tbody>\n",
       "</table>\n",
       "</div>"
      ],
      "text/plain": [
       "   Finding Labels       Image Index  Patient ID\n",
       "0               0  00000001_000.png           1\n",
       "1               0  00000001_001.png           1\n",
       "2               0  00000001_002.png           1\n",
       "3               0  00000002_000.png           2\n",
       "4               0  00000003_001.png           3"
      ]
     },
     "execution_count": 6,
     "metadata": {},
     "output_type": "execute_result"
    }
   ],
   "source": [
    "# find the entries that don't have Pneumonia\n",
    "not_pneumonia = reduced_df[~reduced_df[\"Finding Labels\"].str.contains('Pneumonia')].copy()\n",
    "\n",
    "# set the labels to 0 (negative sample)\n",
    "not_pneumonia['Finding Labels'] = 0\n",
    "\n",
    "not_pneumonia.head()"
   ]
  },
  {
   "cell_type": "code",
   "execution_count": 7,
   "metadata": {},
   "outputs": [
    {
     "data": {
      "text/html": [
       "<div>\n",
       "<style scoped>\n",
       "    .dataframe tbody tr th:only-of-type {\n",
       "        vertical-align: middle;\n",
       "    }\n",
       "\n",
       "    .dataframe tbody tr th {\n",
       "        vertical-align: top;\n",
       "    }\n",
       "\n",
       "    .dataframe thead th {\n",
       "        text-align: right;\n",
       "    }\n",
       "</style>\n",
       "<table border=\"1\" class=\"dataframe\">\n",
       "  <thead>\n",
       "    <tr style=\"text-align: right;\">\n",
       "      <th></th>\n",
       "      <th>Finding Labels</th>\n",
       "      <th>Image Index</th>\n",
       "      <th>Patient ID</th>\n",
       "    </tr>\n",
       "  </thead>\n",
       "  <tbody>\n",
       "    <tr>\n",
       "      <th>0</th>\n",
       "      <td>0</td>\n",
       "      <td>00000001_000.png</td>\n",
       "      <td>1</td>\n",
       "    </tr>\n",
       "    <tr>\n",
       "      <th>1</th>\n",
       "      <td>0</td>\n",
       "      <td>00000001_001.png</td>\n",
       "      <td>1</td>\n",
       "    </tr>\n",
       "    <tr>\n",
       "      <th>2</th>\n",
       "      <td>0</td>\n",
       "      <td>00000001_002.png</td>\n",
       "      <td>1</td>\n",
       "    </tr>\n",
       "    <tr>\n",
       "      <th>3</th>\n",
       "      <td>0</td>\n",
       "      <td>00000002_000.png</td>\n",
       "      <td>2</td>\n",
       "    </tr>\n",
       "    <tr>\n",
       "      <th>4</th>\n",
       "      <td>0</td>\n",
       "      <td>00000003_001.png</td>\n",
       "      <td>3</td>\n",
       "    </tr>\n",
       "    <tr>\n",
       "      <th>...</th>\n",
       "      <td>...</td>\n",
       "      <td>...</td>\n",
       "      <td>...</td>\n",
       "    </tr>\n",
       "    <tr>\n",
       "      <th>112115</th>\n",
       "      <td>1</td>\n",
       "      <td>00030801_001.png</td>\n",
       "      <td>30801</td>\n",
       "    </tr>\n",
       "    <tr>\n",
       "      <th>112116</th>\n",
       "      <td>0</td>\n",
       "      <td>00030802_000.png</td>\n",
       "      <td>30802</td>\n",
       "    </tr>\n",
       "    <tr>\n",
       "      <th>112117</th>\n",
       "      <td>0</td>\n",
       "      <td>00030803_000.png</td>\n",
       "      <td>30803</td>\n",
       "    </tr>\n",
       "    <tr>\n",
       "      <th>112118</th>\n",
       "      <td>0</td>\n",
       "      <td>00030804_000.png</td>\n",
       "      <td>30804</td>\n",
       "    </tr>\n",
       "    <tr>\n",
       "      <th>112119</th>\n",
       "      <td>0</td>\n",
       "      <td>00030805_000.png</td>\n",
       "      <td>30805</td>\n",
       "    </tr>\n",
       "  </tbody>\n",
       "</table>\n",
       "<p>112120 rows × 3 columns</p>\n",
       "</div>"
      ],
      "text/plain": [
       "        Finding Labels       Image Index  Patient ID\n",
       "0                    0  00000001_000.png           1\n",
       "1                    0  00000001_001.png           1\n",
       "2                    0  00000001_002.png           1\n",
       "3                    0  00000002_000.png           2\n",
       "4                    0  00000003_001.png           3\n",
       "...                ...               ...         ...\n",
       "112115               1  00030801_001.png       30801\n",
       "112116               0  00030802_000.png       30802\n",
       "112117               0  00030803_000.png       30803\n",
       "112118               0  00030804_000.png       30804\n",
       "112119               0  00030805_000.png       30805\n",
       "\n",
       "[112120 rows x 3 columns]"
      ]
     },
     "execution_count": 7,
     "metadata": {},
     "output_type": "execute_result"
    }
   ],
   "source": [
    "# merging the two dataset\n",
    "pneumonia_dataset = pd.concat([pneumonia, not_pneumonia], axis=0)\n",
    "pneumonia_dataset = pneumonia_dataset.sort_index()\n",
    "pneumonia_dataset"
   ]
  },
  {
   "cell_type": "markdown",
   "metadata": {},
   "source": [
    "## Creating train, validation and test dataset"
   ]
  },
  {
   "cell_type": "markdown",
   "metadata": {},
   "source": [
    "First, let's check the fraction of Pneumonia samples and Not Pneumonia samples in our dataset."
   ]
  },
  {
   "cell_type": "code",
   "execution_count": 8,
   "metadata": {},
   "outputs": [],
   "source": [
    "def count_class(series):\n",
    "    \"\"\"\n",
    "    Given a series of binary values, return the count of 1 and 0\n",
    "    \"\"\"\n",
    "    pos = series.sum()\n",
    "    neg = series.shape[0] - pos\n",
    "    return pos, neg"
   ]
  },
  {
   "cell_type": "code",
   "execution_count": 9,
   "metadata": {},
   "outputs": [
    {
     "name": "stdout",
     "output_type": "stream",
     "text": [
      "Total samples: 112120\n",
      "Fraction of Pneumonia samples:  0.0128\n",
      "Fraction of Normal samples:  0.9872\n",
      "Ratio:  0.0129\n"
     ]
    }
   ],
   "source": [
    "# calculating class imbalance\n",
    "n_pneumonia, n_not_pneumonia = count_class(pneumonia_dataset[\"Finding Labels\"])\n",
    "n_total = pneumonia_dataset.shape[0]\n",
    "\n",
    "frac_pneumonia = n_pneumonia / n_total\n",
    "frac_not_pneumonia = n_not_pneumonia / n_total\n",
    "\n",
    "ratio = n_pneumonia / n_not_pneumonia\n",
    "\n",
    "print(f\"Total samples: {n_total}\")\n",
    "print(f\"Fraction of Pneumonia samples: {frac_pneumonia: .4f}\")\n",
    "print(f\"Fraction of Normal samples: {frac_not_pneumonia: .4f}\")\n",
    "print(f\"Ratio: {ratio: .4f}\")"
   ]
  },
  {
   "cell_type": "markdown",
   "metadata": {},
   "source": [
    "As, there is a huge class imbalance, I will use a weighted loss function for the model. That's why I want to keep the class ratio similar in the train, validation and test datasets also."
   ]
  },
  {
   "cell_type": "markdown",
   "metadata": {},
   "source": [
    "For medical datasets, it is necessary to ensure that the train, validation and test dataset don't contain the same patient's data. So let's check if the dataset contains several entries for the same patient."
   ]
  },
  {
   "cell_type": "code",
   "execution_count": 10,
   "metadata": {},
   "outputs": [
    {
     "name": "stdout",
     "output_type": "stream",
     "text": [
      "Number of unique patients: 30805\n",
      "Number of entries: 112120\n"
     ]
    }
   ],
   "source": [
    "n_unique_patients = len(set(pneumonia_dataset['Patient ID'].values))\n",
    "\n",
    "print(f\"Number of unique patients: {n_unique_patients}\")\n",
    "print(f\"Number of entries: {n_total}\")"
   ]
  },
  {
   "cell_type": "markdown",
   "metadata": {},
   "source": [
    "As the number of unique patients is less than total entries, there is obviously several entries for the same patient.\n",
    "\n",
    "Let's also check if Pneumonia dataset and Not Pneumonia dataset have any common patient (i.e. patients recovered from Pneumonia)."
   ]
  },
  {
   "cell_type": "code",
   "execution_count": 11,
   "metadata": {},
   "outputs": [
    {
     "name": "stdout",
     "output_type": "stream",
     "text": [
      "Number of patients having Pneumonia: 1008\n",
      "Number of patients not having Pneumonia: 30725\n",
      "Common patients in both dataset: 928\n"
     ]
    }
   ],
   "source": [
    "# unique patient ids (pid)\n",
    "pneumonia_pid = set(pneumonia['Patient ID'].values)\n",
    "not_pneumonia_pid = set(not_pneumonia['Patient ID'].values)\n",
    "common_pid = pneumonia_pid.intersection(not_pneumonia_pid)\n",
    "\n",
    "print(f\"Number of patients having Pneumonia: {len(pneumonia_pid)}\")\n",
    "print(f\"Number of patients not having Pneumonia: {len(not_pneumonia_pid)}\")\n",
    "print(f\"Common patients in both dataset: {len(common_pid)}\")"
   ]
  },
  {
   "cell_type": "markdown",
   "metadata": {},
   "source": [
    "Now, I am going to define a function that will split the dataset into training, validation and test dataset while maintain the class ratio. For this, I will need a helper function \"maintain_ratio\". This function will help to determine the required number of positive and negative cases to maintain the ratio in each sub dataset. The equation for finding the required positive and negative cases is given below.\n",
    "\n",
    "Here,  $ratio$ = $\\frac{pos}{neg}$ <br/>\n",
    "=> $ratio + 1$ = $\\frac{pos+neg}{neg}$ <br/>\n",
    "=> $neg$ = $\\frac{total}{1 + ratio}$"
   ]
  },
  {
   "cell_type": "code",
   "execution_count": 15,
   "metadata": {},
   "outputs": [],
   "source": [
    "def maintain_ratio(df, frac, ratio):\n",
    "    \"\"\"\n",
    "    Calculates the required positive and negative sample to maintain the given ratio in the subset of the dataframe\n",
    "    \"\"\"\n",
    "    total = round(df.shape[0] * frac)\n",
    "    neg = round(total / (1 + ratio))\n",
    "    pos = total - neg\n",
    "    \n",
    "    # round should give integer value\n",
    "    # but for some weird reason, I am getting float value for \"neg\" hence \"pos\" is also becoming float\n",
    "    # this problem happens only when I run jupyter on my local machine. \n",
    "    return int(pos), int(neg)  "
   ]
  },
  {
   "cell_type": "code",
   "execution_count": 16,
   "metadata": {},
   "outputs": [],
   "source": [
    "from random import shuffle, seed\n",
    "\n",
    "def train_val_test_split(train_frac = 0.6, val_frac = 0.2, test_frac = 0.2, df = pneumonia_dataset,\n",
    "                         ratio=ratio, common_pid = common_pid, random_seed=1):\n",
    "    \"\"\"\n",
    "    Splits the given dataframe based on unique patients\n",
    "    and Returns train, validation and testset as Dataframe\n",
    "    \"\"\"\n",
    "    assert(train_frac + val_frac + test_frac <= 1), \"Total of train, val and test fraction exeeds 1\"\n",
    "    seed(random_seed)\n",
    "    \n",
    "    # calculate the number of positive and negative cases required for each dataset to maintain the ratio\n",
    "    train_pos, train_neg = maintain_ratio(df, train_frac, ratio)\n",
    "    val_pos, val_neg = maintain_ratio(df, val_frac, ratio)\n",
    "    test_pos, test_neg = maintain_ratio(df, test_frac, ratio)\n",
    "    \n",
    "    # first, split the patiets that are common in both Pneumonia and Not Pneumonia dataset\n",
    "    ## convert set to list\n",
    "    common_pid = list(common_pid)\n",
    "    shuffle(common_pid)\n",
    "    \n",
    "    ## calculate length\n",
    "    to_train = round(len(common_pid) * train_frac)\n",
    "    to_val = round(len(common_pid) * val_frac)\n",
    "    to_test = round(len(common_pid) * train_frac)\n",
    "    \n",
    "    ## distribute the common pids \n",
    "    train_pid = common_pid[ : to_train]\n",
    "    val_pid = common_pid[to_train : to_train+to_val]\n",
    "    test_pid = common_pid[to_train+to_val : to_train+to_val+to_test]\n",
    "    \n",
    "    ## create dataframes with corresponding common pids\n",
    "    train_set = df[df['Patient ID'].isin(train_pid)]\n",
    "    val_set = df[df['Patient ID'].isin(val_pid)]\n",
    "    test_set = df[df['Patient ID'].isin(test_pid)]\n",
    "    \n",
    "    # count positive and negative sample in each dataframe\n",
    "    train_common_pos, train_common_neg = count_class(train_set['Finding Labels'])\n",
    "    val_common_pos, val_common_neg= count_class(val_set['Finding Labels'])\n",
    "    test_common_pos, test_common_neg = count_class(test_set['Finding Labels'])\n",
    "    \n",
    "    # make sure that filled positive cases are not greated that required positive cases\n",
    "    assert (train_pos >= train_common_pos), \"Try different random_seed value\"\n",
    "    assert (val_pos >= val_common_pos), \"Try different random_seed value\"\n",
    "    assert (test_pos >= test_common_pos), \"Try different random_seed value\"\n",
    "    \n",
    "    # required positive cases\n",
    "    req_train = train_pos - train_common_pos\n",
    "    req_val = val_pos - val_common_pos\n",
    "    req_test = test_pos - test_common_pos\n",
    "    \n",
    "    rest_pneumonia = list(df[(df[\"Finding Labels\"]==1) & (~df[\"Patient ID\"].isin(common_pid))].index)\n",
    "    shuffle(rest_pneumonia)\n",
    "    \n",
    "    # fill up the positive sample requirement for each dataset\n",
    "    train_set = pd.concat([train_set, df.iloc[rest_pneumonia[: req_train], :]], axis=0)\n",
    "    val_set = pd.concat([val_set, df.iloc[rest_pneumonia[req_train : req_train+req_val], :]], axis=0)\n",
    "    test_set = pd.concat([test_set, df.iloc[rest_pneumonia[req_train+req_val : req_train+req_val+req_test], :]], axis=0)\n",
    "    \n",
    "    # required negative cases\n",
    "    req_train = train_neg - train_common_neg\n",
    "    req_val = val_neg - val_common_neg\n",
    "    req_test = test_neg - test_common_neg\n",
    "    \n",
    "    rest_not_pneumonia = list(df[(df[\"Finding Labels\"] == 0)& (~df[\"Patient ID\"].isin(common_pid))].index)\n",
    "    shuffle(rest_not_pneumonia)\n",
    "    \n",
    "    # fill the negative cases\n",
    "    train_set = pd.concat([train_set, df.iloc[rest_not_pneumonia[:req_train], :]], axis=0)\n",
    "    val_set = pd.concat([val_set, df.iloc[rest_not_pneumonia[req_train : req_train+req_val], :]], axis=0)\n",
    "    test_set = pd.concat([test_set, df.iloc[rest_not_pneumonia[req_train+req_val : req_train+req_val+req_test], :]], axis=0)\n",
    "    \n",
    "    return train_set, val_set, test_set"
   ]
  },
  {
   "cell_type": "code",
   "execution_count": 17,
   "metadata": {},
   "outputs": [],
   "source": [
    "# split dataset\n",
    "train_set, val_set, test_set = train_val_test_split(train_frac = 0.6, val_frac = 0.2, test_frac = 0.2)"
   ]
  },
  {
   "cell_type": "code",
   "execution_count": null,
   "metadata": {},
   "outputs": [],
   "source": []
  }
 ],
 "metadata": {
  "kernelspec": {
   "display_name": "Python 3",
   "language": "python",
   "name": "python3"
  },
  "language_info": {
   "codemirror_mode": {
    "name": "ipython",
    "version": 3
   },
   "file_extension": ".py",
   "mimetype": "text/x-python",
   "name": "python",
   "nbconvert_exporter": "python",
   "pygments_lexer": "ipython3",
   "version": "3.8.3"
  }
 },
 "nbformat": 4,
 "nbformat_minor": 4
}
