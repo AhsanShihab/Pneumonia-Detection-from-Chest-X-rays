{
 "cells": [
  {
   "cell_type": "markdown",
   "metadata": {
    "id": "hhOHM0nDMjUH"
   },
   "source": [
    "# Downloading the Chest X-ray images\n",
    "The chest X-ray images can be found in the image folder of dataset's online directory (https://nihcc.app.box.com/v/ChestXray-NIHCC/folder/36938765345). The images are organised in 12 different archieve files which can be downloaded manually or by running the provided script file \"batch_download_zips.py\". However, the total size of the images are around 45 GB. Extracting the files will require additional around 45 GB free space. So, it will take total 90 GB disk spaces which is huge. The height and the width of the images are 1024 x 1024 but the densenet121 model from torchvision needs only 224 x 224 images. So the images are way too big for my need. Just downloading all the files first and then extrating them will cost me unnecessary bills if I do this in a cloud platform (i.e. AWS).\n",
    "\n",
    "What I can do to reduce disk space requirement is to download one archieve file (which are less than 3.5 GB individually), extract it and delete the archieve file immediately. Then I will resize the images to 256 x 256 which will reduce the file size significantly and then delete the original images. Then I will continue to the next archieve file and repeat the same process. The final folder of the resized images takes only aroung 3 GB space.\n",
    "\n",
    "The following two cells will download and resize the images."
   ]
  },
  {
   "cell_type": "code",
   "execution_count": null,
   "metadata": {
    "colab": {
     "base_uri": "https://localhost:8080/",
     "height": 752
    },
    "id": "QpCKyBsZNsIZ",
    "outputId": "34c5c1d4-e010-4640-dbe0-54332bd1ce7d"
   },
   "outputs": [],
   "source": [
    "import shutil\n",
    "import os\n",
    "import urllib.request\n",
    "from PIL import Image\n",
    "import numpy as np\n",
    "import pandas as pd"
   ]
  },
  {
   "cell_type": "code",
   "execution_count": null,
   "metadata": {
    "colab": {
     "base_uri": "https://localhost:8080/",
     "height": 752
    },
    "id": "QpCKyBsZNsIZ",
    "outputId": "34c5c1d4-e010-4640-dbe0-54332bd1ce7d"
   },
   "outputs": [],
   "source": [
    "# URLs for the zip files\n",
    "links = [\n",
    "    'https://nihcc.box.com/shared/static/vfk49d74nhbxq3nqjg0900w5nvkorp5c.gz',\n",
    "    'https://nihcc.box.com/shared/static/i28rlmbvmfjbl8p2n3ril0pptcmcu9d1.gz',\n",
    "    'https://nihcc.box.com/shared/static/f1t00wrtdk94satdfb9olcolqx20z2jp.gz',\n",
    "    'https://nihcc.box.com/shared/static/0aowwzs5lhjrceb3qp67ahp0rd1l1etg.gz',\n",
    "    'https://nihcc.box.com/shared/static/v5e3goj22zr6h8tzualxfsqlqaygfbsn.gz',\n",
    "    'https://nihcc.box.com/shared/static/asi7ikud9jwnkrnkj99jnpfkjdes7l6l.gz',\n",
    "    'https://nihcc.box.com/shared/static/jn1b4mw4n6lnh74ovmcjb8y48h8xj07n.gz',\n",
    "    'https://nihcc.box.com/shared/static/tvpxmn7qyrgl0w8wfh9kqfjskv6nmm1j.gz',\n",
    "    'https://nihcc.box.com/shared/static/upyy3ml7qdumlgk2rfcvlb9k6gvqq2pj.gz',\n",
    "    'https://nihcc.box.com/shared/static/l6nilvfa9cg3s28tqv1qc1olm3gnz54p.gz',\n",
    "    'https://nihcc.box.com/shared/static/hhq8fkdgvcari67vfhs7ppg2w6ni4jze.gz',\n",
    "    'https://nihcc.box.com/shared/static/ioqwiy20ihqwyr8pf4c24eazhh281pbu.gz'\n",
    "]\n",
    "\n",
    "src = 'images' # location of the extracted images\n",
    "dist = 'resized_images' # location of the resized images\n",
    "\n",
    "for idx, link in enumerate(links):\n",
    "    fn = 'images_%02d.tar.gz' % (idx+1)\n",
    "    # download the archieve file\n",
    "    print('downloading '+fn+'...')\n",
    "    urllib.request.urlretrieve(link, fn)\n",
    "    # extract\n",
    "    print('download complete. extracting ...')\n",
    "    shutil.unpack_archive(fn)\n",
    "    os.remove(fn) # deletes the archieve file\n",
    "    # resize\n",
    "    print(\"extraction complete. resizing images ...\")\n",
    "    image_list = os.listdir(src) # makes a list of all the files in the src\n",
    "    if not os.path.exists(dist):\n",
    "        os.makedirs(dist)\n",
    "    total = len(image_list)\n",
    "    # resizing images\n",
    "    for idx, image_file in enumerate(image_list):\n",
    "        image = Image.open(os.path.join(src,image_file))\n",
    "        image = image.resize((256, 256))\n",
    "        image = image.save(os.path.join(dist, image_file))\n",
    "        print('\\r completed: '+str(idx+1)+'/'+str(total), end='')\n",
    "    print()\n",
    "    shutil.rmtree(src) # removes the original images\n",
    "\n",
    "print(\"Done!\")"
   ]
  },
  {
   "cell_type": "markdown",
   "metadata": {
    "id": "pGtJj_7QQ6Sx"
   },
   "source": [
    "Now that all the files are downloaded, let's check the total size of the resized images."
   ]
  },
  {
   "cell_type": "code",
   "execution_count": null,
   "metadata": {
    "id": "NrcdDiKH4LKK"
   },
   "outputs": [],
   "source": [
    "size = 0\n",
    "for filename in os.listdir(dist):\n",
    "    size += os.path.getsize(os.path.join(dist, filename))\n",
    "print(f\"{dist} folder size: {size/1024/1024/1024: 0.2f} GB\")  # size in byte / (to KB) / (to MB) / (to GB)"
   ]
  },
  {
   "cell_type": "markdown",
   "metadata": {},
   "source": [
    "## Preparing directory tree"
   ]
  },
  {
   "cell_type": "markdown",
   "metadata": {},
   "source": [
    "For loading the images using torchvision dataloader, I am going to arange the images in the following directory structure.\n",
    "<pre>\n",
    "    dataset/train/pneumonia/xxx.png\n",
    "    dataset/train/pneumonia/xxx.png\n",
    "    dataset/train/not_pneumonia/xxx.png\n",
    "    dataset/train/not_pneumonia/xxx.png\n",
    "    ...\n",
    "    dataset/validation/pneumonia/xxx.png\n",
    "    dataset/validation/pneumonia/xxx.png\n",
    "    dataset/validation/not_pneumonia/xxx.png\n",
    "    dataset/validation/not_pneumonia/xxx.png\n",
    "    ...\n",
    "    dataset/test/pneumonia/xxx.png\n",
    "    dataset/test/pneumonia/xxx.png\n",
    "    dataset/test/not_pneumonia/xxx.png\n",
    "    dataset/test/not_pneumonia/xxx.png\n",
    "    ...\n",
    "</pre>\n",
    "\n",
    "To move the images from \"resized_images\" to the \"dataset\" folder following the above structure, I am going the run the following code."
   ]
  },
  {
   "cell_type": "code",
   "execution_count": null,
   "metadata": {},
   "outputs": [],
   "source": [
    "output_dir = \"dataset\"\n",
    "source_dir = \"resized_images\"\n",
    "# remove old directories\n",
    "if os.path.exists(output_dir):\n",
    "    shutil.rmtree(output_dir)\n",
    "        \n",
    "for dataset in [\"train\", \"validation\", \"test\"]:\n",
    "    print(\"creating\",dataset,\"directory\")\n",
    "    \n",
    "    # make new dir\n",
    "    os.makedirs(os.path.join(data_dir,dataset,\"Pneumonia\"))\n",
    "    os.makedirs(os.path.join(data_dir,dataset,\"Not_Pneumonia\"))\n",
    "    \n",
    "    df = pd.read_csv(dataset+\".csv\")\n",
    "    total = len(df.index)\n",
    "    for idx in df.index:\n",
    "        src = os.path.join(source_dir, df.loc[idx, \"Image Index\"])\n",
    "        if df.loc[idx, \"Finding Labels\"] == 1:\n",
    "            dst = os.path.join(data_dir,dataset,\"Pneumonia\",df.loc[idx, \"Image Index\"])\n",
    "            shutil.move(src, dst)\n",
    "        else:\n",
    "            dst = os.path.join(data_dir,dataset,\"Not_Pneumonia\",df.loc[idx, \"Image Index\"])\n",
    "            shutil.move(src, dst)\n",
    "            \n",
    "        print('\\r completed: '+str(idx+1)+'/'+str(total), end='')\n",
    "    print()\n",
    "    print(dataset,\"directory created.\")"
   ]
  },
  {
   "cell_type": "markdown",
   "metadata": {},
   "source": [
    "In the next notebook, I am going to train my model and evaluate it."
   ]
  }
 ],
 "metadata": {
  "colab": {
   "collapsed_sections": [],
   "name": "Obtaining ChestX-ray images.ipynb",
   "provenance": []
  },
  "kernelspec": {
   "display_name": "Python (pytorch)",
   "language": "python",
   "name": "pytorch"
  },
  "language_info": {
   "codemirror_mode": {
    "name": "ipython",
    "version": 3
   },
   "file_extension": ".py",
   "mimetype": "text/x-python",
   "name": "python",
   "nbconvert_exporter": "python",
   "pygments_lexer": "ipython3",
   "version": "3.8.3"
  }
 },
 "nbformat": 4,
 "nbformat_minor": 1
}
