{
 "cells": [
  {
   "cell_type": "markdown",
   "metadata": {},
   "source": [
    "# Introduction"
   ]
  },
  {
   "cell_type": "markdown",
   "metadata": {},
   "source": [
    "Machine Learning has many fields where it can have powerful impact. Healthcare is one of the fields that can benefit mostly by using ML. Advancement in ML has created possibilities of automating challenging tasks in healthcare sector like detection of diseases, estimating risk, monitoring treatment etc which were posible before. One of the challenging task in healthcare is analyzing X-ray images. Chest X-rays can be used to detect many diseases like early-stage lung cancers, pneumonia and more. Failing to detect them might cause serious effect for patients. In 2017, 2.5M people died from pneumonia worldwide (source: https://ourworldindata.org/pneumonia). The death rate can be reduce if the patients are diagnosed and brought under treatment in time. Deploying Machine Learning models to detect diseases like these can improve the survival rate of the patients and save thousands of life.\n",
    "\n",
    "\n",
    "## Dataset\n",
    "One of the most common public dataset of chest X-rays is “ChestX-ray8” dataset. This dataset contains over 100k frontal-view X-ray images of more than 30k unique patients. The images have nine labels which includes Atelectasis, Cardiomegaly, Effusion, Infiltration, Mass, Nodule, Pneumonia, Pneumathorax and No Finding. Dataset link: https://arxiv.org/abs/1705.02315\n",
    "\n",
    "In this notebook, I am going to explore the \"ChestX-ray8\" dataset and create the train, validation and test dataset for training Pneumonia Detection Model."
   ]
  },
  {
   "cell_type": "code",
   "execution_count": 1,
   "metadata": {},
   "outputs": [],
   "source": [
    "# import libraries\n",
    "import numpy as np\n",
    "import pandas as pd\n",
    "import matplotlib.pyplot as plt"
   ]
  },
  {
   "cell_type": "code",
   "execution_count": 2,
   "metadata": {},
   "outputs": [],
   "source": [
    "# load the csv file\n",
    "dataset = pd.read_csv(\"Data_Entry_2017_v2020.csv\")"
   ]
  },
  {
   "cell_type": "code",
   "execution_count": 3,
   "metadata": {},
   "outputs": [
    {
     "data": {
      "text/html": [
       "<div>\n",
       "<style scoped>\n",
       "    .dataframe tbody tr th:only-of-type {\n",
       "        vertical-align: middle;\n",
       "    }\n",
       "\n",
       "    .dataframe tbody tr th {\n",
       "        vertical-align: top;\n",
       "    }\n",
       "\n",
       "    .dataframe thead th {\n",
       "        text-align: right;\n",
       "    }\n",
       "</style>\n",
       "<table border=\"1\" class=\"dataframe\">\n",
       "  <thead>\n",
       "    <tr style=\"text-align: right;\">\n",
       "      <th></th>\n",
       "      <th>Image Index</th>\n",
       "      <th>Finding Labels</th>\n",
       "      <th>Follow-up #</th>\n",
       "      <th>Patient ID</th>\n",
       "      <th>Patient Age</th>\n",
       "      <th>Patient Gender</th>\n",
       "      <th>View Position</th>\n",
       "      <th>OriginalImage[Width</th>\n",
       "      <th>Height]</th>\n",
       "      <th>OriginalImagePixelSpacing[x</th>\n",
       "      <th>y]</th>\n",
       "    </tr>\n",
       "  </thead>\n",
       "  <tbody>\n",
       "    <tr>\n",
       "      <th>0</th>\n",
       "      <td>00000001_000.png</td>\n",
       "      <td>Cardiomegaly</td>\n",
       "      <td>0</td>\n",
       "      <td>1</td>\n",
       "      <td>57</td>\n",
       "      <td>M</td>\n",
       "      <td>PA</td>\n",
       "      <td>2682</td>\n",
       "      <td>2749</td>\n",
       "      <td>0.143</td>\n",
       "      <td>0.143</td>\n",
       "    </tr>\n",
       "    <tr>\n",
       "      <th>1</th>\n",
       "      <td>00000001_001.png</td>\n",
       "      <td>Cardiomegaly|Emphysema</td>\n",
       "      <td>1</td>\n",
       "      <td>1</td>\n",
       "      <td>58</td>\n",
       "      <td>M</td>\n",
       "      <td>PA</td>\n",
       "      <td>2894</td>\n",
       "      <td>2729</td>\n",
       "      <td>0.143</td>\n",
       "      <td>0.143</td>\n",
       "    </tr>\n",
       "    <tr>\n",
       "      <th>2</th>\n",
       "      <td>00000001_002.png</td>\n",
       "      <td>Cardiomegaly|Effusion</td>\n",
       "      <td>2</td>\n",
       "      <td>1</td>\n",
       "      <td>58</td>\n",
       "      <td>M</td>\n",
       "      <td>PA</td>\n",
       "      <td>2500</td>\n",
       "      <td>2048</td>\n",
       "      <td>0.168</td>\n",
       "      <td>0.168</td>\n",
       "    </tr>\n",
       "    <tr>\n",
       "      <th>3</th>\n",
       "      <td>00000002_000.png</td>\n",
       "      <td>No Finding</td>\n",
       "      <td>0</td>\n",
       "      <td>2</td>\n",
       "      <td>80</td>\n",
       "      <td>M</td>\n",
       "      <td>PA</td>\n",
       "      <td>2500</td>\n",
       "      <td>2048</td>\n",
       "      <td>0.171</td>\n",
       "      <td>0.171</td>\n",
       "    </tr>\n",
       "    <tr>\n",
       "      <th>4</th>\n",
       "      <td>00000003_001.png</td>\n",
       "      <td>Hernia</td>\n",
       "      <td>0</td>\n",
       "      <td>3</td>\n",
       "      <td>74</td>\n",
       "      <td>F</td>\n",
       "      <td>PA</td>\n",
       "      <td>2500</td>\n",
       "      <td>2048</td>\n",
       "      <td>0.168</td>\n",
       "      <td>0.168</td>\n",
       "    </tr>\n",
       "  </tbody>\n",
       "</table>\n",
       "</div>"
      ],
      "text/plain": [
       "        Image Index          Finding Labels  Follow-up #  Patient ID  \\\n",
       "0  00000001_000.png            Cardiomegaly            0           1   \n",
       "1  00000001_001.png  Cardiomegaly|Emphysema            1           1   \n",
       "2  00000001_002.png   Cardiomegaly|Effusion            2           1   \n",
       "3  00000002_000.png              No Finding            0           2   \n",
       "4  00000003_001.png                  Hernia            0           3   \n",
       "\n",
       "   Patient Age Patient Gender View Position  OriginalImage[Width  Height]  \\\n",
       "0           57              M            PA                 2682     2749   \n",
       "1           58              M            PA                 2894     2729   \n",
       "2           58              M            PA                 2500     2048   \n",
       "3           80              M            PA                 2500     2048   \n",
       "4           74              F            PA                 2500     2048   \n",
       "\n",
       "   OriginalImagePixelSpacing[x     y]  \n",
       "0                        0.143  0.143  \n",
       "1                        0.143  0.143  \n",
       "2                        0.168  0.168  \n",
       "3                        0.171  0.171  \n",
       "4                        0.168  0.168  "
      ]
     },
     "execution_count": 3,
     "metadata": {},
     "output_type": "execute_result"
    }
   ],
   "source": [
    "dataset.head()"
   ]
  },
  {
   "cell_type": "markdown",
   "metadata": {},
   "source": [
    "Let's see the distribution of Age and Gender in our data."
   ]
  },
  {
   "cell_type": "code",
   "execution_count": 4,
   "metadata": {},
   "outputs": [
    {
     "data": {
      "image/png": "[encoded data removed]",
      "text/plain": [
       "<Figure size 432x288 with 1 Axes>"
      ]
     },
     "metadata": {
      "needs_background": "light"
     },
     "output_type": "display_data"
    }
   ],
   "source": [
    "# histogram of Age distribution\n",
    "dataset['Patient Age'].hist()\n",
    "plt.show()"
   ]
  },
  {
   "cell_type": "code",
   "execution_count": 5,
   "metadata": {},
   "outputs": [
    {
     "data": {
      "image/png": "[encoded data removed]",
      "text/plain": [
       "<Figure size 432x288 with 1 Axes>"
      ]
     },
     "metadata": {
      "needs_background": "light"
     },
     "output_type": "display_data"
    }
   ],
   "source": [
    "# bar plot for Male and Female patients\n",
    "x = ['M','F']\n",
    "y = [(dataset['Patient Gender'] == 'M').sum(), (dataset['Patient Gender'] == 'F').sum()]\n",
    "plt.bar(x, y, width = 0.4)\n",
    "plt.show()"
   ]
  },
  {
   "cell_type": "markdown",
   "metadata": {},
   "source": [
    "Most of the patients are between 40-65 years. Also most patients in the dataset are Male, though number of female patient isn't significantly lower either. "
   ]
  },
  {
   "cell_type": "markdown",
   "metadata": {},
   "source": [
    "For my project, I will need only the 'Image Index', 'Finding Labels' and 'Patient ID' columns. So I will select only these three columns and discard other columns."
   ]
  },
  {
   "cell_type": "code",
   "execution_count": 6,
   "metadata": {},
   "outputs": [],
   "source": [
    "dataset = dataset[[ 'Image Index', 'Finding Labels', 'Patient ID' ]]"
   ]
  },
  {
   "cell_type": "markdown",
   "metadata": {},
   "source": [
    "Next, I will select only the entries that have Pneumonia and label them as 1. The other entries will be labeled as 0."
   ]
  },
  {
   "cell_type": "code",
   "execution_count": 7,
   "metadata": {},
   "outputs": [
    {
     "data": {
      "text/html": [
       "<div>\n",
       "<style scoped>\n",
       "    .dataframe tbody tr th:only-of-type {\n",
       "        vertical-align: middle;\n",
       "    }\n",
       "\n",
       "    .dataframe tbody tr th {\n",
       "        vertical-align: top;\n",
       "    }\n",
       "\n",
       "    .dataframe thead th {\n",
       "        text-align: right;\n",
       "    }\n",
       "</style>\n",
       "<table border=\"1\" class=\"dataframe\">\n",
       "  <thead>\n",
       "    <tr style=\"text-align: right;\">\n",
       "      <th></th>\n",
       "      <th>Image Index</th>\n",
       "      <th>Finding Labels</th>\n",
       "      <th>Patient ID</th>\n",
       "    </tr>\n",
       "  </thead>\n",
       "  <tbody>\n",
       "    <tr>\n",
       "      <th>73</th>\n",
       "      <td>00000013_010.png</td>\n",
       "      <td>1</td>\n",
       "      <td>13</td>\n",
       "    </tr>\n",
       "    <tr>\n",
       "      <th>126</th>\n",
       "      <td>00000032_012.png</td>\n",
       "      <td>1</td>\n",
       "      <td>32</td>\n",
       "    </tr>\n",
       "    <tr>\n",
       "      <th>253</th>\n",
       "      <td>00000056_000.png</td>\n",
       "      <td>1</td>\n",
       "      <td>56</td>\n",
       "    </tr>\n",
       "    <tr>\n",
       "      <th>276</th>\n",
       "      <td>00000061_012.png</td>\n",
       "      <td>1</td>\n",
       "      <td>61</td>\n",
       "    </tr>\n",
       "    <tr>\n",
       "      <th>279</th>\n",
       "      <td>00000061_015.png</td>\n",
       "      <td>1</td>\n",
       "      <td>61</td>\n",
       "    </tr>\n",
       "  </tbody>\n",
       "</table>\n",
       "</div>"
      ],
      "text/plain": [
       "          Image Index  Finding Labels  Patient ID\n",
       "73   00000013_010.png               1          13\n",
       "126  00000032_012.png               1          32\n",
       "253  00000056_000.png               1          56\n",
       "276  00000061_012.png               1          61\n",
       "279  00000061_015.png               1          61"
      ]
     },
     "execution_count": 7,
     "metadata": {},
     "output_type": "execute_result"
    }
   ],
   "source": [
    "# find the entries that have Pneumonia\n",
    "pneumonia = dataset[dataset[\"Finding Labels\"].str.contains('Pneumonia')].copy()\n",
    "\n",
    "# set the labels to 1 (positive sample)\n",
    "pneumonia['Finding Labels'] = 1\n",
    "\n",
    "pneumonia.head()"
   ]
  },
  {
   "cell_type": "code",
   "execution_count": 8,
   "metadata": {},
   "outputs": [
    {
     "data": {
      "text/html": [
       "<div>\n",
       "<style scoped>\n",
       "    .dataframe tbody tr th:only-of-type {\n",
       "        vertical-align: middle;\n",
       "    }\n",
       "\n",
       "    .dataframe tbody tr th {\n",
       "        vertical-align: top;\n",
       "    }\n",
       "\n",
       "    .dataframe thead th {\n",
       "        text-align: right;\n",
       "    }\n",
       "</style>\n",
       "<table border=\"1\" class=\"dataframe\">\n",
       "  <thead>\n",
       "    <tr style=\"text-align: right;\">\n",
       "      <th></th>\n",
       "      <th>Image Index</th>\n",
       "      <th>Finding Labels</th>\n",
       "      <th>Patient ID</th>\n",
       "    </tr>\n",
       "  </thead>\n",
       "  <tbody>\n",
       "    <tr>\n",
       "      <th>0</th>\n",
       "      <td>00000001_000.png</td>\n",
       "      <td>0</td>\n",
       "      <td>1</td>\n",
       "    </tr>\n",
       "    <tr>\n",
       "      <th>1</th>\n",
       "      <td>00000001_001.png</td>\n",
       "      <td>0</td>\n",
       "      <td>1</td>\n",
       "    </tr>\n",
       "    <tr>\n",
       "      <th>2</th>\n",
       "      <td>00000001_002.png</td>\n",
       "      <td>0</td>\n",
       "      <td>1</td>\n",
       "    </tr>\n",
       "    <tr>\n",
       "      <th>3</th>\n",
       "      <td>00000002_000.png</td>\n",
       "      <td>0</td>\n",
       "      <td>2</td>\n",
       "    </tr>\n",
       "    <tr>\n",
       "      <th>4</th>\n",
       "      <td>00000003_001.png</td>\n",
       "      <td>0</td>\n",
       "      <td>3</td>\n",
       "    </tr>\n",
       "  </tbody>\n",
       "</table>\n",
       "</div>"
      ],
      "text/plain": [
       "        Image Index  Finding Labels  Patient ID\n",
       "0  00000001_000.png               0           1\n",
       "1  00000001_001.png               0           1\n",
       "2  00000001_002.png               0           1\n",
       "3  00000002_000.png               0           2\n",
       "4  00000003_001.png               0           3"
      ]
     },
     "execution_count": 8,
     "metadata": {},
     "output_type": "execute_result"
    }
   ],
   "source": [
    "# find the entries that don't have Pneumonia\n",
    "not_pneumonia = dataset[~dataset[\"Finding Labels\"].str.contains('Pneumonia')].copy()\n",
    "\n",
    "# set the labels to 0 (negative sample)\n",
    "not_pneumonia['Finding Labels'] = 0\n",
    "\n",
    "not_pneumonia.head()"
   ]
  },
  {
   "cell_type": "code",
   "execution_count": 9,
   "metadata": {},
   "outputs": [
    {
     "data": {
      "text/html": [
       "<div>\n",
       "<style scoped>\n",
       "    .dataframe tbody tr th:only-of-type {\n",
       "        vertical-align: middle;\n",
       "    }\n",
       "\n",
       "    .dataframe tbody tr th {\n",
       "        vertical-align: top;\n",
       "    }\n",
       "\n",
       "    .dataframe thead th {\n",
       "        text-align: right;\n",
       "    }\n",
       "</style>\n",
       "<table border=\"1\" class=\"dataframe\">\n",
       "  <thead>\n",
       "    <tr style=\"text-align: right;\">\n",
       "      <th></th>\n",
       "      <th>Image Index</th>\n",
       "      <th>Finding Labels</th>\n",
       "      <th>Patient ID</th>\n",
       "    </tr>\n",
       "  </thead>\n",
       "  <tbody>\n",
       "    <tr>\n",
       "      <th>0</th>\n",
       "      <td>00000001_000.png</td>\n",
       "      <td>0</td>\n",
       "      <td>1</td>\n",
       "    </tr>\n",
       "    <tr>\n",
       "      <th>1</th>\n",
       "      <td>00000001_001.png</td>\n",
       "      <td>0</td>\n",
       "      <td>1</td>\n",
       "    </tr>\n",
       "    <tr>\n",
       "      <th>2</th>\n",
       "      <td>00000001_002.png</td>\n",
       "      <td>0</td>\n",
       "      <td>1</td>\n",
       "    </tr>\n",
       "    <tr>\n",
       "      <th>3</th>\n",
       "      <td>00000002_000.png</td>\n",
       "      <td>0</td>\n",
       "      <td>2</td>\n",
       "    </tr>\n",
       "    <tr>\n",
       "      <th>4</th>\n",
       "      <td>00000003_001.png</td>\n",
       "      <td>0</td>\n",
       "      <td>3</td>\n",
       "    </tr>\n",
       "    <tr>\n",
       "      <th>...</th>\n",
       "      <td>...</td>\n",
       "      <td>...</td>\n",
       "      <td>...</td>\n",
       "    </tr>\n",
       "    <tr>\n",
       "      <th>112115</th>\n",
       "      <td>00030801_001.png</td>\n",
       "      <td>1</td>\n",
       "      <td>30801</td>\n",
       "    </tr>\n",
       "    <tr>\n",
       "      <th>112116</th>\n",
       "      <td>00030802_000.png</td>\n",
       "      <td>0</td>\n",
       "      <td>30802</td>\n",
       "    </tr>\n",
       "    <tr>\n",
       "      <th>112117</th>\n",
       "      <td>00030803_000.png</td>\n",
       "      <td>0</td>\n",
       "      <td>30803</td>\n",
       "    </tr>\n",
       "    <tr>\n",
       "      <th>112118</th>\n",
       "      <td>00030804_000.png</td>\n",
       "      <td>0</td>\n",
       "      <td>30804</td>\n",
       "    </tr>\n",
       "    <tr>\n",
       "      <th>112119</th>\n",
       "      <td>00030805_000.png</td>\n",
       "      <td>0</td>\n",
       "      <td>30805</td>\n",
       "    </tr>\n",
       "  </tbody>\n",
       "</table>\n",
       "<p>112120 rows × 3 columns</p>\n",
       "</div>"
      ],
      "text/plain": [
       "             Image Index  Finding Labels  Patient ID\n",
       "0       00000001_000.png               0           1\n",
       "1       00000001_001.png               0           1\n",
       "2       00000001_002.png               0           1\n",
       "3       00000002_000.png               0           2\n",
       "4       00000003_001.png               0           3\n",
       "...                  ...             ...         ...\n",
       "112115  00030801_001.png               1       30801\n",
       "112116  00030802_000.png               0       30802\n",
       "112117  00030803_000.png               0       30803\n",
       "112118  00030804_000.png               0       30804\n",
       "112119  00030805_000.png               0       30805\n",
       "\n",
       "[112120 rows x 3 columns]"
      ]
     },
     "execution_count": 9,
     "metadata": {},
     "output_type": "execute_result"
    }
   ],
   "source": [
    "# merging the two dataset\n",
    "pneumonia_dataset = pd.concat([pneumonia, not_pneumonia], axis=0)\n",
    "pneumonia_dataset = pneumonia_dataset.sort_index()\n",
    "pneumonia_dataset"
   ]
  },
  {
   "cell_type": "markdown",
   "metadata": {},
   "source": [
    "## Creating train, validation and test dataset"
   ]
  },
  {
   "cell_type": "markdown",
   "metadata": {},
   "source": [
    "First, let's check the fraction of Pneumonia samples and Not Pneumonia samples in our dataset."
   ]
  },
  {
   "cell_type": "code",
   "execution_count": 10,
   "metadata": {},
   "outputs": [],
   "source": [
    "def count_class(series):\n",
    "    \"\"\"\n",
    "    Given a series of binary values, return the count of 1 and 0\n",
    "    \"\"\"\n",
    "    pos = series.sum()\n",
    "    neg = series.shape[0] - pos\n",
    "    return pos, neg"
   ]
  },
  {
   "cell_type": "code",
   "execution_count": 11,
   "metadata": {},
   "outputs": [
    {
     "name": "stdout",
     "output_type": "stream",
     "text": [
      "Total samples: 112120\n",
      "Fraction of Pneumonia samples:  0.0128\n",
      "Fraction of Normal samples:  0.9872\n",
      "Ratio:  0.0129\n"
     ]
    },
    {
     "data": {
      "image/png": "[encoded data removed]",
      "text/plain": [
       "<Figure size 432x288 with 1 Axes>"
      ]
     },
     "metadata": {
      "needs_background": "light"
     },
     "output_type": "display_data"
    }
   ],
   "source": [
    "# calculating class imbalance\n",
    "n_pneumonia, n_not_pneumonia = count_class(pneumonia_dataset[\"Finding Labels\"])\n",
    "n_total = pneumonia_dataset.shape[0]\n",
    "\n",
    "frac_pneumonia = n_pneumonia / n_total\n",
    "frac_not_pneumonia = n_not_pneumonia / n_total\n",
    "\n",
    "ratio = n_pneumonia / n_not_pneumonia\n",
    "\n",
    "print(f\"Total samples: {n_total}\")\n",
    "print(f\"Fraction of Pneumonia samples: {frac_pneumonia: .4f}\")\n",
    "print(f\"Fraction of Normal samples: {frac_not_pneumonia: .4f}\")\n",
    "print(f\"Ratio: {ratio: .4f}\")\n",
    "\n",
    "# bar plot\n",
    "# bar plot for Male and Female patients\n",
    "x = ['Pneumonia','Not Pneumonia']\n",
    "y = [n_pneumonia, n_not_pneumonia]\n",
    "plt.bar(x, y, width = 0.4)\n",
    "plt.show()"
   ]
  },
  {
   "cell_type": "markdown",
   "metadata": {},
   "source": [
    "As, there is a huge class imbalance, randomly splitting the dataset might end up giving test or validation set with no sample of Pneumonia."
   ]
  },
  {
   "cell_type": "markdown",
   "metadata": {},
   "source": [
    "Also, for medical datasets, it is necessary to ensure that the train, validation and test dataset don't contain the same patient's data. So let's check if the dataset contains several entries for the same patient."
   ]
  },
  {
   "cell_type": "code",
   "execution_count": 12,
   "metadata": {},
   "outputs": [
    {
     "name": "stdout",
     "output_type": "stream",
     "text": [
      "Number of unique patients: 30805\n",
      "Number of entries: 112120\n"
     ]
    }
   ],
   "source": [
    "n_unique_patients = len(set(pneumonia_dataset['Patient ID'].values))\n",
    "\n",
    "print(f\"Number of unique patients: {n_unique_patients}\")\n",
    "print(f\"Number of entries: {n_total}\")"
   ]
  },
  {
   "cell_type": "markdown",
   "metadata": {},
   "source": [
    "As the number of unique patients is less than total entries, there is obviously several entries for the same patient.\n",
    "\n",
    "Let's also check if Pneumonia dataset and Not Pneumonia dataset have any common patient (i.e. patients recovered from Pneumonia or diagnosed with pneumonia later)."
   ]
  },
  {
   "cell_type": "code",
   "execution_count": 13,
   "metadata": {},
   "outputs": [
    {
     "name": "stdout",
     "output_type": "stream",
     "text": [
      "Number of patients having Pneumonia: 1008\n",
      "Number of patients not having Pneumonia: 30725\n",
      "Common patients in both dataset: 928\n"
     ]
    }
   ],
   "source": [
    "# unique patient ids (pid)\n",
    "pneumonia_pid = set(pneumonia['Patient ID'].values)\n",
    "not_pneumonia_pid = set(not_pneumonia['Patient ID'].values)\n",
    "common_pid = pneumonia_pid.intersection(not_pneumonia_pid)\n",
    "\n",
    "print(f\"Number of patients having Pneumonia: {len(pneumonia_pid)}\")\n",
    "print(f\"Number of patients not having Pneumonia: {len(not_pneumonia_pid)}\")\n",
    "print(f\"Common patients in both dataset: {len(common_pid)}\")"
   ]
  },
  {
   "cell_type": "markdown",
   "metadata": {},
   "source": [
    "There are 29797 (= 30725 - 928) patients who never had pneumonia. If I split only the patient IDs and create datasets based on the splitted patient IDs, the validation or test dataset might end up having no sample of pneumonia. So to ensure that all the splitted datasets have some samples of pneumonia, I will first split the pneumonia patients and then fill the splitted datasets with not pneumonia entries.\n",
    "\n",
    "This will be done in the \"train_val_test_split\" function. For that function, first I will define a helper function named \"split_dataset\" in the next cell."
   ]
  },
  {
   "cell_type": "code",
   "execution_count": 14,
   "metadata": {},
   "outputs": [],
   "source": [
    "def split_dataframe(df, pid_list, fracs):\n",
    "    \"\"\"\n",
    "    Returns three dataframes containing the entries of the patients who\n",
    "    are splitted based on the given fractions    \n",
    "    \"\"\"\n",
    "\n",
    "    train_frac, val_frac, test_frac = fracs\n",
    "\n",
    "    ## calculate length\n",
    "    to_train = round(len(pid_list) * train_frac)\n",
    "    to_val = round(len(pid_list) * val_frac)\n",
    "    to_test = round(len(pid_list) * train_frac)\n",
    "\n",
    "    ## distribute the common pids \n",
    "    train_pid = pid_list[ : to_train]\n",
    "    val_pid = pid_list[to_train : to_train+to_val]\n",
    "    test_pid = pid_list[to_train+to_val : to_train+to_val+to_test]\n",
    "\n",
    "    ## create dataframes with corresponding common pids\n",
    "    train_set = df[df['Patient ID'].isin(train_pid)]\n",
    "    val_set = df[df['Patient ID'].isin(val_pid)]\n",
    "    test_set = df[df['Patient ID'].isin(test_pid)]\n",
    "\n",
    "    return train_set, val_set, test_set\n"
   ]
  },
  {
   "cell_type": "code",
   "execution_count": 15,
   "metadata": {},
   "outputs": [],
   "source": [
    "from random import shuffle, seed\n",
    "\n",
    "def train_val_test_split(fracs, df=pneumonia_dataset, pneumonia_pid=pneumonia_pid,\n",
    "                         not_pneumonia_pid=not_pneumonia_pid, common_pid = common_pid, random_seed=1):\n",
    "    \"\"\"\n",
    "    Splits the given dataframe based on patients IDs\n",
    "    Inputs:\n",
    "        frac: touple of train, validation and test fraction\n",
    "        df: dataframe to be splitted\n",
    "        pneumonia_pid: set of pneumonia patient IDs\n",
    "        not_pneumonia_pid: set of not pneumonia patient IDs, \n",
    "        common_pid: set of IDs of patients who are common in both pneumonia and not pneumonia entres, \n",
    "        random_seed: seed for random\n",
    "        \n",
    "    Returns: train, validation and testset as Dataframe\n",
    "    \"\"\"\n",
    "    \n",
    "    assert(fracs[0] + fracs[1] + fracs[2] <= 1), \"Total of train, val and test fraction exeeds 1\"\n",
    "    seed(random_seed)\n",
    "    \n",
    "    # convert to list\n",
    "    unique_pneumonia_pid = list(pneumonia_pid - common_pid) # they only appear in pneumonia samples\n",
    "    unique_not_pneumonia_pid = list(not_pneumonia_pid - common_pid) # they only appear in not pneumonia samples\n",
    "    common_pid = list(common_pid)\n",
    "    \n",
    "    # first, split the patiets that are common in both Pneumonia and Not Pneumonia dataset\n",
    "    shuffle(common_pid)\n",
    "    train_set, val_set, test_set = split_dataframe(df, common_pid, fracs)\n",
    "    \n",
    "    # now, split the patiets that are unique in Pneumonia and Not Pneumonia dataset\n",
    "    shuffle(unique_pneumonia_pid)\n",
    "    shuffle(unique_not_pneumonia_pid)\n",
    "    \n",
    "    train_set_2, val_set_2, test_set_2 = split_dataframe(df, unique_pneumonia_pid, fracs)\n",
    "    train_set_3, val_set_3, test_set_3 = split_dataframe(df, unique_not_pneumonia_pid, fracs)\n",
    "\n",
    "    # concat the respencitve dataframes\n",
    "    train_set = pd.concat([train_set, train_set_2, train_set_3], axis=0)\n",
    "    val_set = pd.concat([val_set, val_set_2, val_set_3], axis=0)\n",
    "    test_set = pd.concat([test_set, test_set_2, test_set_3], axis=0)\n",
    "    \n",
    "    return train_set, val_set, test_set"
   ]
  },
  {
   "cell_type": "code",
   "execution_count": 16,
   "metadata": {},
   "outputs": [],
   "source": [
    "# split dataset\n",
    "train_set, val_set, test_set = train_val_test_split((0.85, 0.13, 0.02))"
   ]
  },
  {
   "cell_type": "code",
   "execution_count": 17,
   "metadata": {},
   "outputs": [
    {
     "name": "stdout",
     "output_type": "stream",
     "text": [
      "In train set, Positive sample: 1237, Negative sample: 94264, Ratio:  0.0131\n",
      "In validation set, Positive sample: 169, Negative sample: 14262, Ratio:  0.0118\n",
      "In test set, Positive sample: 25, Negative sample: 2163, Ratio:  0.0116\n"
     ]
    }
   ],
   "source": [
    "pos, neg = count_class(train_set[\"Finding Labels\"])\n",
    "print(f\"In train set, Positive sample: {pos}, Negative sample: {neg}, Ratio: {pos/neg: 0.4f}\")\n",
    "pos, neg = count_class(val_set[\"Finding Labels\"])\n",
    "print(f\"In validation set, Positive sample: {pos}, Negative sample: {neg}, Ratio: {pos/neg: 0.4f}\")\n",
    "pos, neg = count_class(test_set[\"Finding Labels\"])\n",
    "print(f\"In test set, Positive sample: {pos}, Negative sample: {neg}, Ratio: {pos/neg: 0.4f}\")"
   ]
  },
  {
   "cell_type": "markdown",
   "metadata": {},
   "source": [
    "Let's save the train, val and test sets to a csv file which will be used in other notebooks."
   ]
  },
  {
   "cell_type": "code",
   "execution_count": 18,
   "metadata": {},
   "outputs": [],
   "source": [
    "train_set.to_csv(\"train.csv\", index=False)\n",
    "val_set.to_csv(\"validation.csv\", index=False)\n",
    "test_set.to_csv(\"test.csv\", index=False)"
   ]
  },
  {
   "cell_type": "markdown",
   "metadata": {},
   "source": [
    "Next, in the 2nd notebook, I will get the image files and prepare them for the model."
   ]
  }
 ],
 "metadata": {
  "kernelspec": {
   "display_name": "conda_python3",
   "language": "python",
   "name": "conda_python3"
  },
  "language_info": {
   "codemirror_mode": {
    "name": "ipython",
    "version": 3
   },
   "file_extension": ".py",
   "mimetype": "text/x-python",
   "name": "python",
   "nbconvert_exporter": "python",
   "pygments_lexer": "ipython3",
   "version": "3.6.10"
  }
 },
 "nbformat": 4,
 "nbformat_minor": 4
}
