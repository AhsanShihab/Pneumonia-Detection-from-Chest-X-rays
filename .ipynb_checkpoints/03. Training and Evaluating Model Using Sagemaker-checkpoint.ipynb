{
 "cells": [
  {
   "cell_type": "markdown",
   "metadata": {},
   "source": [
    "# Training Model on Sagemaker\n",
    "\n",
    "In this notebook, I am going to train my model using AWS Sagemaker. For this, I need to upload my dataset to S3 bucket. So first, let's upload the data."
   ]
  },
  {
   "cell_type": "markdown",
   "metadata": {},
   "source": [
    "## Uploading data"
   ]
  },
  {
   "cell_type": "code",
   "execution_count": 1,
   "metadata": {},
   "outputs": [],
   "source": [
    "import sagemaker\n",
    "import boto3"
   ]
  },
  {
   "cell_type": "code",
   "execution_count": 2,
   "metadata": {},
   "outputs": [],
   "source": [
    "# session and role\n",
    "sagemaker_session = sagemaker.Session()\n",
    "role = sagemaker.get_execution_role()\n",
    "\n",
    "# create an S3 bucket\n",
    "bucket = sagemaker_session.default_bucket()"
   ]
  },
  {
   "cell_type": "code",
   "execution_count": 3,
   "metadata": {},
   "outputs": [],
   "source": [
    "# name of the directory of saved data\n",
    "data_dir = 'dataset'\n",
    "\n",
    "# set prefix, a descriptive name for a directory  \n",
    "prefix = 'pneumonia_data'"
   ]
  },
  {
   "cell_type": "code",
   "execution_count": null,
   "metadata": {},
   "outputs": [
    {
     "name": "stdout",
     "output_type": "stream",
     "text": [
      "data upload complete\n"
     ]
    }
   ],
   "source": [
    "# upload all data to S3\n",
    "import os\n",
    "\n",
    "train_location = sagemaker_session.upload_data(os.path.join(data_dir, 'train'), key_prefix=prefix+'/train')\n",
    "validation_location = sagemaker_session.upload_data(os.path.join(data_dir, 'validation'), key_prefix=prefix+'/validation')\n",
    "print(\"data upload complete\")"
   ]
  },
  {
   "cell_type": "code",
   "execution_count": 5,
   "metadata": {},
   "outputs": [
    {
     "name": "stdout",
     "output_type": "stream",
     "text": [
      "train_location: s3://sagemaker-us-east-1-595868480840/pneumonia_data/train\n",
      "validation_location: s3://sagemaker-us-east-1-595868480840/pneumonia_data/validation\n"
     ]
    }
   ],
   "source": [
    "# printing the location string will allow me to continue from here later\n",
    "# delete when submitting the project\n",
    "print(\"train_location:\", train_location)\n",
    "print(\"validation_location:\", validation_location)"
   ]
  },
  {
   "cell_type": "code",
   "execution_count": null,
   "metadata": {},
   "outputs": [],
   "source": [
    "train_location = \"s3://sagemaker-us-east-1-595868480840/pneumonia_data/train\"\n",
    "validation_location = \"s3://sagemaker-us-east-1-595868480840/pneumonia_data/validation\"\n"
   ]
  },
  {
   "cell_type": "markdown",
   "metadata": {},
   "source": [
    "## Training"
   ]
  },
  {
   "cell_type": "markdown",
   "metadata": {},
   "source": [
    "From the data exploration notebook, we know that the chest x-ray dataset contains ~1M images which is relatively small for training a deep neural network. To tackle this problem, I will be using transfer learning technique. First I will initiate my model with a Densenet121 model which is trained on ImageNet. This is easily downloadable from torchvision's models library. Then I will replace the classification layer with a Linear layer which outputs only a single value, followed by a Sigmoid activation layer. Secondly, there is also a huge class imbalance in the dataset. To tackle this problem, I will use a weighted binary cross-entropy loss.\n",
    "\n",
    "My model is an implimentation of the [CheXNet](https://arxiv.org/abs/1711.05225) paper."
   ]
  },
  {
   "cell_type": "markdown",
   "metadata": {},
   "source": [
    "First, I need to calculate the fraction of the negative and positive sample in my data. These fractions are needed for the loss function."
   ]
  },
  {
   "cell_type": "code",
   "execution_count": 6,
   "metadata": {},
   "outputs": [],
   "source": [
    "import pandas as pd"
   ]
  },
  {
   "cell_type": "code",
   "execution_count": 7,
   "metadata": {},
   "outputs": [
    {
     "name": "stdout",
     "output_type": "stream",
     "text": [
      "pos-weight:  0.9870, neg-weight:  0.0130\n"
     ]
    }
   ],
   "source": [
    "train_df = pd.read_csv(\"train.csv\")\n",
    "\n",
    "total = train_df.shape[0]\n",
    "pos = (train_df[\"Finding Labels\"] == 1).sum()\n",
    "neg = total - pos\n",
    "\n",
    "pos_weight = neg/total\n",
    "neg_weight = pos/total\n",
    "\n",
    "print(f\"pos-weight: {pos_weight: 0.4f}, neg-weight: {neg_weight: 0.4f}\")"
   ]
  },
  {
   "cell_type": "markdown",
   "metadata": {},
   "source": [
    "In the following cells, I will test the functions that I created in the `source/model.py` script before training the estimator. This way, if there is any error or typo, I can go back to the `model.py` file and do necessary changes. Once everything runs as intended, then I will create the estimator object for training."
   ]
  },
  {
   "cell_type": "code",
   "execution_count": 8,
   "metadata": {},
   "outputs": [],
   "source": [
    "import torch\n",
    "import torch.optim\n",
    "from source_pytorch.model import *"
   ]
  },
  {
   "cell_type": "code",
   "execution_count": 9,
   "metadata": {},
   "outputs": [
    {
     "data": {
      "text/plain": [
       "'1.4.0'"
      ]
     },
     "execution_count": 9,
     "metadata": {},
     "output_type": "execute_result"
    }
   ],
   "source": [
    "torch.__version__"
   ]
  },
  {
   "cell_type": "code",
   "execution_count": 10,
   "metadata": {},
   "outputs": [
    {
     "name": "stdout",
     "output_type": "stream",
     "text": [
      "Using device cpu.\n",
      "Get train data loader.\n",
      "Get validation data loader.\n"
     ]
    },
    {
     "name": "stderr",
     "output_type": "stream",
     "text": [
      "Downloading: \"https://download.pytorch.org/models/densenet121-a639ec97.pth\" to /home/ec2-user/.cache/torch/checkpoints/densenet121-a639ec97.pth\n"
     ]
    },
    {
     "data": {
      "application/vnd.jupyter.widget-view+json": {
       "model_id": "fdf2099ee99e45ad954390a9269029be",
       "version_major": 2,
       "version_minor": 0
      },
      "text/plain": [
       "HBox(children=(FloatProgress(value=0.0, max=32342954.0), HTML(value='')))"
      ]
     },
     "metadata": {},
     "output_type": "display_data"
    },
    {
     "name": "stdout",
     "output_type": "stream",
     "text": [
      "\n",
      "1/3\n",
      " - training loss 0.011426616460084917 - val. loss 0.05097552016377449\n",
      "Learning rate used 0.001\n",
      "2/3\n",
      " - training loss 0.05622316151857376 - val. loss 0.012568872421979904\n",
      "Learning rate used 0.001\n",
      "3/3\n",
      " - training loss 0.009672258980572224 - val. loss 0.035417623817920685\n",
      "Learning rate used 0.001\n",
      "\n",
      "Done\n"
     ]
    }
   ],
   "source": [
    "device = torch.device(\"cuda\" if torch.cuda.is_available() else \"cpu\")\n",
    "print(\"Using device {}.\".format(device))\n",
    "\n",
    "# Load the training data.\n",
    "trainloader = train_data_loader(16, \"dataset/train\")\n",
    "\n",
    "# Load the training data.\n",
    "validationloader = validation_data_loader(16, \"dataset/validation\")\n",
    "\n",
    "# initiate model\n",
    "model = densnet_pretrained().to(device)\n",
    "\n",
    "# define an optimizer and loss function for training\n",
    "optimizer = optim.Adam(model.classifier.parameters(), lr=0.001)\n",
    "\n",
    "# define a learning rate scheduler\n",
    "scheduler = optim.lr_scheduler.ReduceLROnPlateau(optimizer, 'min', patience=1)\n",
    "\n",
    "# define loss function\n",
    "criterion = weighted_BCELoss(pos_weight, neg_weight)\n",
    "\n",
    "# train the model\n",
    "for epoch in range(3):\n",
    "    print(f\"{epoch+1}/{3}\")\n",
    "    model, training_loss = train(model, trainloader, criterion, optimizer, device, testing=True)\n",
    "    validation_loss = validation(model, validationloader, criterion, device, testing=True)\n",
    "    # displaying the loss values by multiplying instead of deviding with the dataloader len \n",
    "    # because testing=True will run only one batch\n",
    "    print(\" - training loss \"+ str(training_loss*len(trainloader)) + \" - val. loss \" + str(validation_loss*len(validationloader)))\n",
    "    print(\"Learning rate used \" + str(optimizer.param_groups[0]['lr']))\n",
    "    scheduler.step(validation_loss)\n",
    "\n",
    "print(\"\\nDone\")"
   ]
  },
  {
   "cell_type": "markdown",
   "metadata": {},
   "source": [
    "The functions work as expected. So now I will create the PyTorch Estimator object."
   ]
  },
  {
   "cell_type": "code",
   "execution_count": 11,
   "metadata": {},
   "outputs": [],
   "source": [
    "from sagemaker.pytorch import PyTorch\n",
    "\n",
    "output_path = 's3://{}/{}'.format(bucket, prefix)\n",
    "\n",
    "estimator = PyTorch(entry_point='model.py',\n",
    "                    source_dir='source_pytorch',\n",
    "                    role=role,\n",
    "                    framework_version='1.4',\n",
    "                    train_instance_count=1,\n",
    "                    train_instance_type='ml.p2.xlarge',\n",
    "                    output_path=output_path,\n",
    "                    sagemaker_session=sagemaker_session,\n",
    "                    hyperparameters={\n",
    "                        'epochs': 5,\n",
    "                        \"batch-size\": 32,\n",
    "                        \"pos-weight\": pos_weight,\n",
    "                        \"neg-weight\": neg_weight\n",
    "                    })"
   ]
  },
  {
   "cell_type": "markdown",
   "metadata": {},
   "source": [
    "Now my estimator can be trained by calling the fit method."
   ]
  },
  {
   "cell_type": "code",
   "execution_count": 12,
   "metadata": {},
   "outputs": [
    {
     "name": "stderr",
     "output_type": "stream",
     "text": [
      "'create_image_uri' will be deprecated in favor of 'ImageURIProvider' class in SageMaker Python SDK v2.\n",
      "'s3_input' class will be renamed to 'TrainingInput' in SageMaker Python SDK v2.\n",
      "'s3_input' class will be renamed to 'TrainingInput' in SageMaker Python SDK v2.\n",
      "'create_image_uri' will be deprecated in favor of 'ImageURIProvider' class in SageMaker Python SDK v2.\n"
     ]
    },
    {
     "name": "stdout",
     "output_type": "stream",
     "text": [
      "2020-10-22 14:41:49 Starting - Starting the training job...\n",
      "2020-10-22 14:41:52 Starting - Launching requested ML instances.........\n",
      "2020-10-22 14:43:23 Starting - Preparing the instances for training.........\n",
      "2020-10-22 14:44:56 Downloading - Downloading input data...............................................................\n",
      "2020-10-22 14:55:49 Training - Training image download completed. Training in progress..\u001b[34mbash: cannot set terminal process group (-1): Inappropriate ioctl for device\u001b[0m\n",
      "\u001b[34mbash: no job control in this shell\u001b[0m\n",
      "\u001b[34m2020-10-22 14:55:50,886 sagemaker-containers INFO     Imported framework sagemaker_pytorch_container.training\u001b[0m\n",
      "\u001b[34m2020-10-22 14:55:50,911 sagemaker_pytorch_container.training INFO     Block until all host DNS lookups succeed.\u001b[0m\n",
      "\u001b[34m2020-10-22 14:55:50,916 sagemaker_pytorch_container.training INFO     Invoking user training script.\u001b[0m\n",
      "\u001b[34m2020-10-22 14:56:52,173 sagemaker-containers INFO     Module default_user_module_name does not provide a setup.py. \u001b[0m\n",
      "\u001b[34mGenerating setup.py\u001b[0m\n",
      "\u001b[34m2020-10-22 14:56:52,173 sagemaker-containers INFO     Generating setup.cfg\u001b[0m\n",
      "\u001b[34m2020-10-22 14:56:52,174 sagemaker-containers INFO     Generating MANIFEST.in\u001b[0m\n",
      "\u001b[34m2020-10-22 14:56:52,174 sagemaker-containers INFO     Installing module with the following command:\u001b[0m\n",
      "\u001b[34m/opt/conda/bin/python -m pip install . \u001b[0m\n",
      "\u001b[34mProcessing /tmp/tmpz2isdcsj/module_dir\u001b[0m\n",
      "\u001b[34mBuilding wheels for collected packages: default-user-module-name\n",
      "  Building wheel for default-user-module-name (setup.py): started\u001b[0m\n",
      "\u001b[34m  Building wheel for default-user-module-name (setup.py): finished with status 'done'\n",
      "  Created wheel for default-user-module-name: filename=default_user_module_name-1.0.0-py2.py3-none-any.whl size=7696 sha256=ebb4fbf1363cbc87ef18afb54a38c3797662c107005ccef521a985e741f2f207\n",
      "  Stored in directory: /tmp/pip-ephem-wheel-cache-uxmchpk1/wheels/58/1f/bd/f44f5fb921ec6a20eb8d69a0b9de7c144f13d9d942b4210969\u001b[0m\n",
      "\u001b[34mSuccessfully built default-user-module-name\u001b[0m\n",
      "\u001b[34mInstalling collected packages: default-user-module-name\u001b[0m\n",
      "\u001b[34mSuccessfully installed default-user-module-name-1.0.0\u001b[0m\n",
      "\u001b[34mWARNING: You are using pip version 20.1.1; however, version 20.2.4 is available.\u001b[0m\n",
      "\u001b[34mYou should consider upgrading via the '/opt/conda/bin/python -m pip install --upgrade pip' command.\u001b[0m\n",
      "\u001b[34m2020-10-22 14:56:54,744 sagemaker-containers INFO     Invoking user script\n",
      "\u001b[0m\n",
      "\u001b[34mTraining Env:\n",
      "\u001b[0m\n",
      "\u001b[34m{\n",
      "    \"additional_framework_parameters\": {},\n",
      "    \"channel_input_dirs\": {\n",
      "        \"validation\": \"/opt/ml/input/data/validation\",\n",
      "        \"train\": \"/opt/ml/input/data/train\"\n",
      "    },\n",
      "    \"current_host\": \"algo-1\",\n",
      "    \"framework_module\": \"sagemaker_pytorch_container.training:main\",\n",
      "    \"hosts\": [\n",
      "        \"algo-1\"\n",
      "    ],\n",
      "    \"hyperparameters\": {\n",
      "        \"batch-size\": 32,\n",
      "        \"neg-weight\": 0.012952743950325127,\n",
      "        \"epochs\": 5,\n",
      "        \"pos-weight\": 0.9870472560496749\n",
      "    },\n",
      "    \"input_config_dir\": \"/opt/ml/input/config\",\n",
      "    \"input_data_config\": {\n",
      "        \"validation\": {\n",
      "            \"TrainingInputMode\": \"File\",\n",
      "            \"S3DistributionType\": \"FullyReplicated\",\n",
      "            \"RecordWrapperType\": \"None\"\n",
      "        },\n",
      "        \"train\": {\n",
      "            \"TrainingInputMode\": \"File\",\n",
      "            \"S3DistributionType\": \"FullyReplicated\",\n",
      "            \"RecordWrapperType\": \"None\"\n",
      "        }\n",
      "    },\n",
      "    \"input_dir\": \"/opt/ml/input\",\n",
      "    \"is_master\": true,\n",
      "    \"job_name\": \"pytorch-training-2020-10-22-14-41-49-462\",\n",
      "    \"log_level\": 20,\n",
      "    \"master_hostname\": \"algo-1\",\n",
      "    \"model_dir\": \"/opt/ml/model\",\n",
      "    \"module_dir\": \"s3://sagemaker-us-east-1-595868480840/pytorch-training-2020-10-22-14-41-49-462/source/sourcedir.tar.gz\",\n",
      "    \"module_name\": \"model\",\n",
      "    \"network_interface_name\": \"eth0\",\n",
      "    \"num_cpus\": 4,\n",
      "    \"num_gpus\": 1,\n",
      "    \"output_data_dir\": \"/opt/ml/output/data\",\n",
      "    \"output_dir\": \"/opt/ml/output\",\n",
      "    \"output_intermediate_dir\": \"/opt/ml/output/intermediate\",\n",
      "    \"resource_config\": {\n",
      "        \"current_host\": \"algo-1\",\n",
      "        \"hosts\": [\n",
      "            \"algo-1\"\n",
      "        ],\n",
      "        \"network_interface_name\": \"eth0\"\n",
      "    },\n",
      "    \"user_entry_point\": \"model.py\"\u001b[0m\n",
      "\u001b[34m}\n",
      "\u001b[0m\n",
      "\u001b[34mEnvironment variables:\n",
      "\u001b[0m\n",
      "\u001b[34mSM_HOSTS=[\"algo-1\"]\u001b[0m\n",
      "\u001b[34mSM_NETWORK_INTERFACE_NAME=eth0\u001b[0m\n",
      "\u001b[34mSM_HPS={\"batch-size\":32,\"epochs\":5,\"neg-weight\":0.012952743950325127,\"pos-weight\":0.9870472560496749}\u001b[0m\n",
      "\u001b[34mSM_USER_ENTRY_POINT=model.py\u001b[0m\n",
      "\u001b[34mSM_FRAMEWORK_PARAMS={}\u001b[0m\n",
      "\u001b[34mSM_RESOURCE_CONFIG={\"current_host\":\"algo-1\",\"hosts\":[\"algo-1\"],\"network_interface_name\":\"eth0\"}\u001b[0m\n",
      "\u001b[34mSM_INPUT_DATA_CONFIG={\"train\":{\"RecordWrapperType\":\"None\",\"S3DistributionType\":\"FullyReplicated\",\"TrainingInputMode\":\"File\"},\"validation\":{\"RecordWrapperType\":\"None\",\"S3DistributionType\":\"FullyReplicated\",\"TrainingInputMode\":\"File\"}}\u001b[0m\n",
      "\u001b[34mSM_OUTPUT_DATA_DIR=/opt/ml/output/data\u001b[0m\n",
      "\u001b[34mSM_CHANNELS=[\"train\",\"validation\"]\u001b[0m\n",
      "\u001b[34mSM_CURRENT_HOST=algo-1\u001b[0m\n",
      "\u001b[34mSM_MODULE_NAME=model\u001b[0m\n",
      "\u001b[34mSM_LOG_LEVEL=20\u001b[0m\n",
      "\u001b[34mSM_FRAMEWORK_MODULE=sagemaker_pytorch_container.training:main\u001b[0m\n",
      "\u001b[34mSM_INPUT_DIR=/opt/ml/input\u001b[0m\n",
      "\u001b[34mSM_INPUT_CONFIG_DIR=/opt/ml/input/config\u001b[0m\n",
      "\u001b[34mSM_OUTPUT_DIR=/opt/ml/output\u001b[0m\n",
      "\u001b[34mSM_NUM_CPUS=4\u001b[0m\n",
      "\u001b[34mSM_NUM_GPUS=1\u001b[0m\n",
      "\u001b[34mSM_MODEL_DIR=/opt/ml/model\u001b[0m\n",
      "\u001b[34mSM_MODULE_DIR=s3://sagemaker-us-east-1-595868480840/pytorch-training-2020-10-22-14-41-49-462/source/sourcedir.tar.gz\u001b[0m\n",
      "\u001b[34mSM_TRAINING_ENV={\"additional_framework_parameters\":{},\"channel_input_dirs\":{\"train\":\"/opt/ml/input/data/train\",\"validation\":\"/opt/ml/input/data/validation\"},\"current_host\":\"algo-1\",\"framework_module\":\"sagemaker_pytorch_container.training:main\",\"hosts\":[\"algo-1\"],\"hyperparameters\":{\"batch-size\":32,\"epochs\":5,\"neg-weight\":0.012952743950325127,\"pos-weight\":0.9870472560496749},\"input_config_dir\":\"/opt/ml/input/config\",\"input_data_config\":{\"train\":{\"RecordWrapperType\":\"None\",\"S3DistributionType\":\"FullyReplicated\",\"TrainingInputMode\":\"File\"},\"validation\":{\"RecordWrapperType\":\"None\",\"S3DistributionType\":\"FullyReplicated\",\"TrainingInputMode\":\"File\"}},\"input_dir\":\"/opt/ml/input\",\"is_master\":true,\"job_name\":\"pytorch-training-2020-10-22-14-41-49-462\",\"log_level\":20,\"master_hostname\":\"algo-1\",\"model_dir\":\"/opt/ml/model\",\"module_dir\":\"s3://sagemaker-us-east-1-595868480840/pytorch-training-2020-10-22-14-41-49-462/source/sourcedir.tar.gz\",\"module_name\":\"model\",\"network_interface_name\":\"eth0\",\"num_cpus\":4,\"num_gpus\":1,\"output_data_dir\":\"/opt/ml/output/data\",\"output_dir\":\"/opt/ml/output\",\"output_intermediate_dir\":\"/opt/ml/output/intermediate\",\"resource_config\":{\"current_host\":\"algo-1\",\"hosts\":[\"algo-1\"],\"network_interface_name\":\"eth0\"},\"user_entry_point\":\"model.py\"}\u001b[0m\n",
      "\u001b[34mSM_USER_ARGS=[\"--batch-size\",\"32\",\"--epochs\",\"5\",\"--neg-weight\",\"0.012952743950325127\",\"--pos-weight\",\"0.9870472560496749\"]\u001b[0m\n",
      "\u001b[34mSM_OUTPUT_INTERMEDIATE_DIR=/opt/ml/output/intermediate\u001b[0m\n",
      "\u001b[34mSM_CHANNEL_VALIDATION=/opt/ml/input/data/validation\u001b[0m\n",
      "\u001b[34mSM_CHANNEL_TRAIN=/opt/ml/input/data/train\u001b[0m\n",
      "\u001b[34mSM_HP_BATCH-SIZE=32\u001b[0m\n",
      "\u001b[34mSM_HP_NEG-WEIGHT=0.012952743950325127\u001b[0m\n",
      "\u001b[34mSM_HP_EPOCHS=5\u001b[0m\n",
      "\u001b[34mSM_HP_POS-WEIGHT=0.9870472560496749\u001b[0m\n",
      "\u001b[34mPYTHONPATH=/opt/ml/code:/opt/conda/bin:/opt/conda/lib/python36.zip:/opt/conda/lib/python3.6:/opt/conda/lib/python3.6/lib-dynload:/opt/conda/lib/python3.6/site-packages\n",
      "\u001b[0m\n",
      "\u001b[34mInvoking script with the following command:\n",
      "\u001b[0m\n",
      "\u001b[34m/opt/conda/bin/python model.py --batch-size 32 --epochs 5 --neg-weight 0.012952743950325127 --pos-weight 0.9870472560496749\n",
      "\n",
      "\u001b[0m\n",
      "\u001b[34mUsing device cuda.\u001b[0m\n",
      "\u001b[34mGet train data loader.\u001b[0m\n",
      "\u001b[34mGet validation data loader.\u001b[0m\n",
      "\u001b[34m1/5\u001b[0m\n",
      "\u001b[34m[2020-10-22 14:57:01.846 algo-1:42 INFO json_config.py:90] Creating hook from json_config at /opt/ml/input/config/debughookconfig.json.\u001b[0m\n",
      "\u001b[34m[2020-10-22 14:57:01.846 algo-1:42 INFO hook.py:191] tensorboard_dir has not been set for the hook. SMDebug will not be exporting tensorboard summaries.\u001b[0m\n",
      "\u001b[34m[2020-10-22 14:57:01.847 algo-1:42 INFO hook.py:236] Saving to /opt/ml/output/tensors\u001b[0m\n",
      "\u001b[34m[2020-10-22 14:57:01.847 algo-1:42 INFO state_store.py:67] The checkpoint config file /opt/ml/input/config/checkpointconfig.json does not exist.\u001b[0m\n",
      "\u001b[34m[2020-10-22 14:57:01.877 algo-1:42 INFO hook.py:376] Monitoring the collections: losses\u001b[0m\n",
      "\u001b[34m[2020-10-22 14:57:01.877 algo-1:42 INFO hook.py:437] Hook is writing from the hook with pid: 42\n",
      "\u001b[0m\n"
     ]
    },
    {
     "name": "stdout",
     "output_type": "stream",
     "text": [
      "\u001b[34m - training loss 0.01820211831675955 - val. loss 0.015809946657261913\u001b[0m\n",
      "\u001b[34mLearning rate used 0.001\u001b[0m\n",
      "\u001b[34m2/5\u001b[0m\n",
      "\u001b[34m - training loss 0.017852654449339585 - val. loss 0.01629522839561105\u001b[0m\n",
      "\u001b[34mLearning rate used 0.001\u001b[0m\n",
      "\u001b[34m3/5\u001b[0m\n",
      "\u001b[34m - training loss 0.017839569625667552 - val. loss 0.017286286156417596\u001b[0m\n",
      "\u001b[34mLearning rate used 0.001\u001b[0m\n",
      "\u001b[34m4/5\u001b[0m\n",
      "\u001b[34m - training loss 0.016848810568755247 - val. loss 0.015664986120536923\u001b[0m\n",
      "\u001b[34mLearning rate used 0.0001\u001b[0m\n",
      "\u001b[34m5/5\u001b[0m\n",
      "\u001b[34m - training loss 0.016814828571150624 - val. loss 0.015647853339711824\u001b[0m\n",
      "\u001b[34mLearning rate used 0.0001\u001b[0m\n",
      "\u001b[34m[2020-10-22 16:48:23.424 algo-1:42 INFO utils.py:25] The end of training job file will not be written for jobs running under SageMaker.\u001b[0m\n",
      "\u001b[34m2020-10-22 16:48:23,933 sagemaker-containers INFO     Reporting training SUCCESS\u001b[0m\n",
      "\n",
      "2020-10-22 16:48:41 Uploading - Uploading generated training model\n",
      "2020-10-22 16:48:41 Completed - Training job completed\n",
      "Training seconds: 7425\n",
      "Billable seconds: 7425\n"
     ]
    }
   ],
   "source": [
    "estimator.fit({'train': train_location,\n",
    "              'validation': validation_location})"
   ]
  },
  {
   "cell_type": "markdown",
   "metadata": {},
   "source": [
    "## Evaluating"
   ]
  },
  {
   "cell_type": "markdown",
   "metadata": {},
   "source": [
    "First, I will create a predictor object by deploying my estimator."
   ]
  },
  {
   "cell_type": "code",
   "execution_count": 13,
   "metadata": {},
   "outputs": [
    {
     "name": "stderr",
     "output_type": "stream",
     "text": [
      "Parameter image will be renamed to image_uri in SageMaker Python SDK v2.\n",
      "'create_image_uri' will be deprecated in favor of 'ImageURIProvider' class in SageMaker Python SDK v2.\n"
     ]
    },
    {
     "name": "stdout",
     "output_type": "stream",
     "text": [
      "-----------------!"
     ]
    }
   ],
   "source": [
    "from sagemaker.pytorch import PyTorchModel\n",
    "\n",
    "model = PyTorchModel(model_data=estimator.model_data,\n",
    "                     role = role,\n",
    "                     framework_version='1.4',\n",
    "                     entry_point='model.py',\n",
    "                     source_dir='source_pytorch')\n",
    "\n",
    "# deploy your model to create a predictor\n",
    "predictor = model.deploy(initial_instance_count=1, instance_type='ml.t2.medium')"
   ]
  },
  {
   "cell_type": "markdown",
   "metadata": {},
   "source": [
    "I will create a \"testloader\" which will help me to go through all the test images and their labels using a for loop."
   ]
  },
  {
   "cell_type": "code",
   "execution_count": 14,
   "metadata": {
    "scrolled": true
   },
   "outputs": [],
   "source": [
    "test_transform = transforms.Compose([transforms.CenterCrop(224),\n",
    "                                     transforms.ToTensor(),\n",
    "                                     transforms.Normalize(mean=[0.485, 0.456, 0.406],\n",
    "                                                          std=[0.229, 0.224, 0.225])])\n",
    "test_data = datasets.ImageFolder('dataset/test', transform=test_transform)\n",
    "testloader = torch.utils.data.DataLoader(test_data, batch_size=1)"
   ]
  },
  {
   "cell_type": "markdown",
   "metadata": {},
   "source": [
    "Now I will go through all the test images and store their labels in the \"labels\" array and predictions to the \"preds\" array. Once all the images are predicted, I can calculate the results."
   ]
  },
  {
   "cell_type": "code",
   "execution_count": 17,
   "metadata": {},
   "outputs": [],
   "source": [
    "import numpy as np\n",
    "\n",
    "preds = np.array([])\n",
    "labels = np.array([])\n",
    "\n",
    "for image, im_label in testloader:\n",
    "    im_pred = predictor.predict(image)\n",
    "    preds = np.append(preds, im_pred.squeeze())\n",
    "    labels = np.append(labels, im_label)"
   ]
  },
  {
   "cell_type": "code",
   "execution_count": 18,
   "metadata": {},
   "outputs": [],
   "source": [
    "# convert the predictions to binary results\n",
    "result = np.zeros(preds.shape)\n",
    "th= 0.5\n",
    "result[preds>th] = 1."
   ]
  },
  {
   "cell_type": "code",
   "execution_count": 19,
   "metadata": {},
   "outputs": [
    {
     "name": "stdout",
     "output_type": "stream",
     "text": [
      "accuracy: 0.6389396709323584\n",
      "recall 0.64\n",
      "precision 0.020075282308657464\n",
      "f1 score 0.0389294403892944\n"
     ]
    }
   ],
   "source": [
    "# calculate metrices\n",
    "tp = np.logical_and(labels, result).sum()\n",
    "fp = np.logical_and(1-labels, result).sum()\n",
    "tn = np.logical_and(1-labels, 1-result).sum()\n",
    "fn = np.logical_and(labels, 1-result).sum()\n",
    "\n",
    "recall = tp / (tp + fn)\n",
    "precision = tp / (tp + fp)\n",
    "accuracy = (tp + tn) / (tp + fp + tn + fn)\n",
    "f1 = 2 * (precision*recall)/(precision+recall)\n",
    "\n",
    "print('accuracy:',accuracy)\n",
    "print('recall', recall)\n",
    "print('precision', precision)\n",
    "print('f1 score', f1)"
   ]
  },
  {
   "cell_type": "code",
   "execution_count": 20,
   "metadata": {},
   "outputs": [
    {
     "name": "stdout",
     "output_type": "stream",
     "text": [
      "TP 16\n",
      "TN 1382\n",
      "FP 781\n",
      "FN 9\n"
     ]
    }
   ],
   "source": [
    "print(\"TP\", tp)\n",
    "print(\"TN\", tn)\n",
    "print(\"FP\", fp)\n",
    "print(\"FN\", fn)"
   ]
  },
  {
   "cell_type": "markdown",
   "metadata": {},
   "source": [
    "The model's performance is not as close as mentioned in the paper because it is trained only for 5 epochs considering the expense. FOr getting better performance, the model needs to be trained for longer epochs."
   ]
  },
  {
   "cell_type": "markdown",
   "metadata": {},
   "source": [
    "## Deleting Endpoint"
   ]
  },
  {
   "cell_type": "code",
   "execution_count": 21,
   "metadata": {},
   "outputs": [],
   "source": [
    "predictor.delete_endpoint()"
   ]
  },
  {
   "cell_type": "code",
   "execution_count": null,
   "metadata": {},
   "outputs": [],
   "source": []
  }
 ],
 "metadata": {
  "kernelspec": {
   "display_name": "Python 3",
   "language": "python",
   "name": "python3"
  },
  "language_info": {
   "codemirror_mode": {
    "name": "ipython",
    "version": 3
   },
   "file_extension": ".py",
   "mimetype": "text/x-python",
   "name": "python",
   "nbconvert_exporter": "python",
   "pygments_lexer": "ipython3",
   "version": "3.8.3"
  }
 },
 "nbformat": 4,
 "nbformat_minor": 4
}
